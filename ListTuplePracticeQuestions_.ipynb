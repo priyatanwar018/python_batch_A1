{
  "cells": [
    {
      "cell_type": "markdown",
      "metadata": {
        "id": "view-in-github",
        "colab_type": "text"
      },
      "source": [
        "<a href=\"https://colab.research.google.com/github/priyatanwar018/python_batch_A1/blob/main/ListTuplePracticeQuestions_.ipynb\" target=\"_parent\"><img src=\"https://colab.research.google.com/assets/colab-badge.svg\" alt=\"Open In Colab\"/></a>"
      ]
    },
    {
      "cell_type": "markdown",
      "id": "345f15f9",
      "metadata": {
        "id": "345f15f9"
      },
      "source": [
        "# Q.1:Write a Python program to calculate the total bill at a grocery store. The user can input prices for 5 items, and if the total price exceeds $100, a discount of 10% is applied."
      ]
    },
    {
      "cell_type": "code",
      "execution_count": null,
      "id": "01cf579b",
      "metadata": {
        "id": "01cf579b",
        "outputId": "31035910-c519-47ee-cea0-d2730fc95394"
      },
      "outputs": [
        {
          "name": "stdout",
          "output_type": "stream",
          "text": [
            "Enter price of item 1: 2\n",
            "Enter price of item 2: 3\n",
            "Enter price of item 3: 4\n",
            "Enter price of item 4: 5\n",
            "Enter price of item 5: 6\n",
            "Total bill after discount (if applicable): $20.00\n"
          ]
        }
      ],
      "source": [
        "total_price = 0\n",
        "for i in range(5):\n",
        "    price = float(input(f\"Enter price of item {i+1}: \"))\n",
        "    total_price += price\n",
        "\n",
        "if total_price > 100:\n",
        "    total_price *= 0.9  # Apply 10% discount\n",
        "\n",
        "print(f\"Total bill after discount (if applicable): ${total_price:.2f}\")\n"
      ]
    },
    {
      "cell_type": "markdown",
      "id": "3eaf495d",
      "metadata": {
        "id": "3eaf495d"
      },
      "source": [
        "# Q.2 Create a program that asks a student to input their grade (0–100) and classify them into \"Fail,\" \"Pass,\" or \"Excellent\" using conditional statements. (Fail: < 40, Pass: 40–80, Excellent: > 80)"
      ]
    },
    {
      "cell_type": "code",
      "execution_count": null,
      "id": "a87d7631",
      "metadata": {
        "id": "a87d7631",
        "outputId": "7c3bead6-2bd4-42ff-b008-39b9fdaab77e"
      },
      "outputs": [
        {
          "name": "stdout",
          "output_type": "stream",
          "text": [
            "Enter your grade: 56\n",
            "Pass\n"
          ]
        }
      ],
      "source": [
        "grade = int(input(\"Enter your grade: \"))\n",
        "\n",
        "if grade < 40:\n",
        "    print(\"Fail\")\n",
        "elif 40 <= grade <= 80:\n",
        "    print(\"Pass\")\n",
        "else:\n",
        "    print(\"Excellent\")\n"
      ]
    },
    {
      "cell_type": "markdown",
      "id": "8ee06598",
      "metadata": {
        "id": "8ee06598"
      },
      "source": [
        "# Q.3 You have a list of employee names and a corresponding list of their salaries. Write a Python program to print each employee's name along with their salary using a loop."
      ]
    },
    {
      "cell_type": "code",
      "execution_count": null,
      "id": "9785f724",
      "metadata": {
        "id": "9785f724",
        "outputId": "c3f0f6bd-474f-4178-e3ce-5b226e76c8d4"
      },
      "outputs": [
        {
          "name": "stdout",
          "output_type": "stream",
          "text": [
            "Employee: Sam, Salary: Rs:50000\n",
            "Employee: Raj, Salary: Rs:60000\n",
            "Employee: Mohit, Salary: Rs:55000\n",
            "Employee: Pooja, Salary: Rs:75000\n"
          ]
        }
      ],
      "source": [
        "employees = ['Sam', 'Raj', 'Mohit', 'Pooja']\n",
        "salaries = [50000, 60000, 55000, 75000]\n",
        "\n",
        "for i in range(len(employees)):\n",
        "    print(f\"Employee: {employees[i]}, Salary: Rs:{salaries[i]}\")\n"
      ]
    },
    {
      "cell_type": "markdown",
      "id": "6b9b7392",
      "metadata": {
        "id": "6b9b7392"
      },
      "source": [
        "# Q.4 Create a tuple for storing product information like product name, price, and stock. Then, use a loop to print each product's details."
      ]
    },
    {
      "cell_type": "code",
      "execution_count": null,
      "id": "7d1d18b8",
      "metadata": {
        "id": "7d1d18b8",
        "outputId": "ef0e5827-6d6e-45e0-86ae-81c609785f24"
      },
      "outputs": [
        {
          "name": "stdout",
          "output_type": "stream",
          "text": [
            "Product: Laptop, Price: $1500, Stock: 10 units\n",
            "Product: Mouse, Price: $20, Stock: 200 units\n",
            "Product: Keyboard, Price: $45, Stock: 150 units\n"
          ]
        }
      ],
      "source": [
        "products = [(\"Laptop\", 1500, 10), (\"Mouse\", 20, 200), (\"Keyboard\", 45, 150)]\n",
        "\n",
        "for product in products:\n",
        "    name, price, stock = product\n",
        "    print(f\"Product: {name}, Price: ${price}, Stock: {stock} units\")\n"
      ]
    },
    {
      "cell_type": "markdown",
      "id": "c648dd77",
      "metadata": {
        "id": "c648dd77"
      },
      "source": [
        "# Q.5 Write a Python program that keeps asking the user to input a password. The password must contain at least 8 characters. If it's less, the program should ask again until a valid password is entered."
      ]
    },
    {
      "cell_type": "code",
      "execution_count": null,
      "id": "e6b94902",
      "metadata": {
        "id": "e6b94902",
        "outputId": "4a06ba81-5b7e-4c51-d931-08099c52133a"
      },
      "outputs": [
        {
          "name": "stdout",
          "output_type": "stream",
          "text": [
            "Enter a password (minimum 8 characters): 3\n",
            "Password too short. Try again.\n",
            "Enter a password (minimum 8 characters): 7\n",
            "Password too short. Try again.\n",
            "Enter a password (minimum 8 characters): 123456789\n",
            "Password accepted\n"
          ]
        }
      ],
      "source": [
        "while True:\n",
        "    password = input(\"Enter a password (minimum 8 characters): \")\n",
        "    if len(password) >= 8:\n",
        "        print(\"Password accepted\")\n",
        "        break\n",
        "    else:\n",
        "        print(\"Password too short. Try again.\")\n"
      ]
    },
    {
      "cell_type": "markdown",
      "id": "e17243d0",
      "metadata": {
        "id": "e17243d0"
      },
      "source": [
        "# Q.6 Create a list to store daily tasks. Allow the user to add 5 tasks one by one, then display the list of tasks."
      ]
    },
    {
      "cell_type": "code",
      "execution_count": null,
      "id": "e63aa102",
      "metadata": {
        "id": "e63aa102",
        "outputId": "a33786e4-80cc-4fcb-d1d6-dcd7bcc22d30"
      },
      "outputs": [
        {
          "name": "stdout",
          "output_type": "stream",
          "text": [
            "Enter task 1: donig maths work\n",
            "Enter task 2: Chemistry work\n",
            "Enter task 3: English read\n",
            "Enter task 4: python learn\n",
            "Enter task 5: java learn\n",
            "Your tasks for today are:\n",
            "- donig maths work\n",
            "- Chemistry work\n",
            "- English read\n",
            "- python learn\n",
            "- java learn\n"
          ]
        }
      ],
      "source": [
        "tasks = []\n",
        "for i in range(5):\n",
        "    task = input(f\"Enter task {i+1}: \")\n",
        "    tasks.append(task)\n",
        "\n",
        "print(\"Your tasks for today are:\")\n",
        "for task in tasks:\n",
        "    print(f\"- {task}\")\n"
      ]
    },
    {
      "cell_type": "markdown",
      "id": "c35a08a9",
      "metadata": {
        "id": "c35a08a9"
      },
      "source": [
        "# Q.7 Given two numbers a and b, write a Python program to swap their values using a tuple."
      ]
    },
    {
      "cell_type": "code",
      "execution_count": null,
      "id": "1d3343bc",
      "metadata": {
        "id": "1d3343bc",
        "outputId": "c1be3267-171c-42db-ebfa-46814dd5b3e1"
      },
      "outputs": [
        {
          "name": "stdout",
          "output_type": "stream",
          "text": [
            "Before swapping: a = 10, b = 20\n",
            "After swapping: a = 20, b = 10\n"
          ]
        }
      ],
      "source": [
        "a = 10\n",
        "b = 20\n",
        "print(f\"Before swapping: a = {a}, b = {b}\")\n",
        "\n",
        "a, b = b, a\n",
        "\n",
        "print(f\"After swapping: a = {a}, b = {b}\")\n"
      ]
    },
    {
      "cell_type": "markdown",
      "id": "4e8900b8",
      "metadata": {
        "id": "4e8900b8"
      },
      "source": [
        "# Q.8 Write a Python program that asks the user for their age. If they are 18 or older, print \"You can vote.\" Otherwise, print \"You cannot vote.\""
      ]
    },
    {
      "cell_type": "code",
      "execution_count": null,
      "id": "9b1e3509",
      "metadata": {
        "id": "9b1e3509",
        "outputId": "9195e4f4-43e7-4bda-968b-90582116e920"
      },
      "outputs": [
        {
          "name": "stdout",
          "output_type": "stream",
          "text": [
            "Enter your age: 45\n",
            "You can vote.\n"
          ]
        }
      ],
      "source": [
        "age = int(input(\"Enter your age: \"))\n",
        "\n",
        "if age >= 18:\n",
        "    print(\"You can vote.\")\n",
        "else:\n",
        "    print(\"You cannot vote.\")\n"
      ]
    },
    {
      "cell_type": "markdown",
      "id": "836efc1c",
      "metadata": {
        "id": "836efc1c"
      },
      "source": [
        "# Q.9 Write a program to create a list of the first 10 even numbers and print them using a loop."
      ]
    },
    {
      "cell_type": "code",
      "execution_count": null,
      "id": "f94601ec",
      "metadata": {
        "id": "f94601ec",
        "outputId": "e9a3dc6d-dd9e-428f-a804-a37f987abfc8"
      },
      "outputs": [
        {
          "name": "stdout",
          "output_type": "stream",
          "text": [
            "First 10 even numbers:\n",
            "2\n",
            "4\n",
            "6\n",
            "8\n",
            "10\n",
            "12\n",
            "14\n",
            "16\n",
            "18\n",
            "20\n"
          ]
        }
      ],
      "source": [
        "even_numbers = [i for i in range(2, 21, 2)]\n",
        "\n",
        "print(\"First 10 even numbers:\")\n",
        "for num in even_numbers:\n",
        "    print(num)\n"
      ]
    },
    {
      "cell_type": "markdown",
      "id": "a6026b33",
      "metadata": {
        "id": "a6026b33"
      },
      "source": [
        "# Q.10 You have a tuple of products with their prices. Write a program to find and display the product with the highest price."
      ]
    },
    {
      "cell_type": "code",
      "execution_count": null,
      "id": "d0fc5783",
      "metadata": {
        "id": "d0fc5783",
        "outputId": "bf7f8a23-3493-4887-d85d-2b28deecd285"
      },
      "outputs": [
        {
          "name": "stdout",
          "output_type": "stream",
          "text": [
            "The most expensive product is Laptop priced at $1200.\n"
          ]
        }
      ],
      "source": [
        "products = ((\"Phone\", 700), (\"Laptop\", 1200), (\"Tablet\", 300))\n",
        "\n",
        "max_price = 0\n",
        "max_product = \"\"\n",
        "\n",
        "for product, price in products:\n",
        "    if price > max_price:\n",
        "        max_price = price\n",
        "        max_product = product\n",
        "\n",
        "print(f\"The most expensive product is {max_product} priced at ${max_price}.\")\n"
      ]
    },
    {
      "cell_type": "markdown",
      "id": "f9fddeab",
      "metadata": {
        "id": "f9fddeab"
      },
      "source": [
        "# Prectice Questions"
      ]
    },
    {
      "cell_type": "code",
      "execution_count": null,
      "id": "1eb07efd",
      "metadata": {
        "id": "1eb07efd"
      },
      "outputs": [],
      "source": [
        "# Q.1 You have a list of item prices and their quantities in a shopping cart.\n",
        "# Write a Python program that calculates the total price by multiplying the price of each item by its quantity and summing up the results.\n",
        "\n",
        "# Q.2 Write a program that asks the user to enter a temperature value in Celsius or Fahrenheit.\n",
        "# Based on the input, convert the temperature to the other unit and display the result (use \"C\" for Celsius and \"F\" for Fahrenheit).\n",
        "\n",
        "# Q.3 Write a Python program that separates even and odd numbers from a list of integers into two different lists.\n",
        "\n",
        "# Q.4 Create a tuple to store information about an online course, including the course title, instructor, and duration. Write a Python program to display the course details.\n",
        "\n",
        "# Q.5 Create a Python program that simulates a bank account withdrawal. The program should allow the user to input a withdrawal amount repeatedly\n",
        "# until the balance is insufficient to cover the withdrawal.\n",
        "\n",
        "# Q.6 You have a list of student scores. Write a Python program that uses a loop to calculate the average score\n",
        "# and then classifies students as \"above average\" or \"below average\" based on their scores.\n",
        "\n",
        "# Q.7 Given a tuple containing employee records (employee name, salary, department), write a Python program to print the names of employees who earn more than $50,000.\n",
        "\n",
        "# Q.8 Create a program that asks a customer for the total amount of their shopping bill. If the amount exceeds $200, apply a 15% holiday discount and print the final bill.\n",
        "\n",
        "# Q.9 Write a Python program that takes a list of words and counts how many times each word appears in the list. Print each word along with its count.\n",
        "\n",
        "# Q.10 Write a Python program to print the following pattern using a loop:\n",
        "\n",
        "# 1\n",
        "# 1 2\n",
        "# 1 2 3\n",
        "# 1 2 3 4\n",
        "# 1 2 3 4 5\n"
      ]
    },
    {
      "cell_type": "code",
      "source": [
        "# Q.1 You have a list of item prices and their quantities in a shopping cart.\n",
        "# Write a Python program that calculates the total price by multiplying the price of each item by its quantity and summing up the results.\n",
        "\n",
        "cart = [(200,2),(100,3),(50,1),(150,2)]\n",
        "total_price = 0\n",
        "\n",
        "for price,quantity in cart:\n",
        "  total_price += price * quantity\n",
        "print(f\"Total Price: {total_price}\")"
      ],
      "metadata": {
        "colab": {
          "base_uri": "https://localhost:8080/"
        },
        "id": "kgQ6ZDfEPpv7",
        "outputId": "0b7c4775-da06-4853-d437-6f2168dcccff"
      },
      "id": "kgQ6ZDfEPpv7",
      "execution_count": 2,
      "outputs": [
        {
          "output_type": "stream",
          "name": "stdout",
          "text": [
            "Total Price: 1050\n"
          ]
        }
      ]
    },
    {
      "cell_type": "code",
      "source": [
        "# Q.2 Write a program that asks the user to enter a temperature value in Celsius or Fahrenheit.\n",
        "# Based on the input, convert the temperature to the other unit and display the result (use \"C\" for Celsius and \"F\" for Fahrenheit).\n",
        "\n",
        "choice = input(\"Enter 'C' to conert into celsius or 'F' to convert into fahrenheit: \")\n",
        "temp = float(input(\"Enter temperature: \"))\n",
        "\n",
        "if choice == 'C' or choice == 'c':\n",
        "  converted_temp = (temp - 32) * (5/9)\n",
        "elif choice == 'F' or choice == 'f':\n",
        "  converted_temp = (temp * (9/5)) + 32\n",
        "else:\n",
        "  print(\"Please enter valid choice\")\n",
        "print(f\"Temperature: {converted_temp}\")"
      ],
      "metadata": {
        "colab": {
          "base_uri": "https://localhost:8080/"
        },
        "id": "dEgq0m9RQfxE",
        "outputId": "602735ec-076b-4cac-c4d4-3fa878c37472"
      },
      "id": "dEgq0m9RQfxE",
      "execution_count": 5,
      "outputs": [
        {
          "output_type": "stream",
          "name": "stdout",
          "text": [
            "Enter 'C' to conert into celsius or 'F' to convert into fahrenheit: f\n",
            "Enter temperature: 28\n",
            "Temperature: 82.4\n"
          ]
        }
      ]
    },
    {
      "cell_type": "code",
      "source": [
        "# Q.3 Write a Python program that separates even and odd numbers from a list of integers into two different lists.\n",
        "\n",
        "my_list = input(\"Enter a list of integers: \")\n",
        "my_list = list(map(int,my_list.split(\",\")))\n",
        "\n",
        "even_list = []\n",
        "odd_list = []\n",
        "\n",
        "for num in my_list:\n",
        "  if num % 2 == 0:\n",
        "    even_list.append(num)\n",
        "  else:\n",
        "    odd_list.append(num)\n",
        "\n",
        "print(f\"List of even numbers: {even_list}\")\n",
        "print(f\"List of odd numbers: {odd_list}\")"
      ],
      "metadata": {
        "colab": {
          "base_uri": "https://localhost:8080/"
        },
        "id": "V9nUomeOS7go",
        "outputId": "37df8fcf-7849-4aef-d2a8-d6dbee112ec4"
      },
      "id": "V9nUomeOS7go",
      "execution_count": 7,
      "outputs": [
        {
          "output_type": "stream",
          "name": "stdout",
          "text": [
            "Enter a list of integers: 1,2,3,4,5,6,7,8,9,10,11,12,13,14,15\n",
            "List of even numbers: [2, 4, 6, 8, 10, 12, 14]\n",
            "List of odd numbers: [1, 3, 5, 7, 9, 11, 13, 15]\n"
          ]
        }
      ]
    },
    {
      "cell_type": "code",
      "source": [
        "# Q.4 Create a tuple to store information about an online course, including the course title, instructor, and duration. Write a Python program to display the course details.\n",
        "\n",
        "course_details = (\"Python Programming\",\"Mr. John Doe\",\"3 Weeks\")\n",
        "\n",
        "print(f\"Course Title: {course_details[0]}\")\n",
        "print(f\"Instructor: {course_details[1]}\")\n",
        "print(f\"Duration: {course_details[2]}\")"
      ],
      "metadata": {
        "colab": {
          "base_uri": "https://localhost:8080/"
        },
        "id": "sFnBltIJTw-W",
        "outputId": "8c11b335-c050-40a3-f0bf-bbf997c6fa45"
      },
      "id": "sFnBltIJTw-W",
      "execution_count": 8,
      "outputs": [
        {
          "output_type": "stream",
          "name": "stdout",
          "text": [
            "Course Title: Python Programming\n",
            "Instructor: Mr. John Doe\n",
            "Duration: 3 Weeks\n"
          ]
        }
      ]
    },
    {
      "cell_type": "code",
      "source": [
        "# Q.5 Create a Python program that simulates a bank account withdrawal. The program should allow the user to input a withdrawal amount repeatedly\n",
        "# until the balance is insufficient to cover the withdrawal.\n",
        "\n",
        "balance = 10000\n",
        "account_no = int(input(\"Enter your account number: \"))\n",
        "\n",
        "\n",
        "while True:\n",
        "  amount = int(input(\"Enter the amount you want to withdraw: \"))\n",
        "\n",
        "  if amount > balance:\n",
        "    print(\"Insufficient Balance\")\n",
        "    print(f\"Remaining Balance: {balance}\")\n",
        "  elif amount <= 0:\n",
        "    print(\"Withdrawl amount should be greater than 0\")\n",
        "    print(f\"Remaining Balance: {balance}\")\n",
        "  else:\n",
        "    balance -= amount\n",
        "    print(f\"Remaining Balance: {balance}\")\n",
        "\n",
        "    if balance == 0:\n",
        "      print(\"your balance is now zero. You can't make any further withdrawls.\")\n",
        "      break\n",
        "\n",
        "    continue_withdrawl = input(\"Do you want to continue withdrawing? (yes/no): \")\n",
        "    if continue_withdrawl.lower() != 'yes':\n",
        "      break"
      ],
      "metadata": {
        "colab": {
          "base_uri": "https://localhost:8080/"
        },
        "id": "VwOq9u9JVGaq",
        "outputId": "a0380540-5f60-42c8-a404-132eaf12517b"
      },
      "id": "VwOq9u9JVGaq",
      "execution_count": 22,
      "outputs": [
        {
          "output_type": "stream",
          "name": "stdout",
          "text": [
            "Enter your account number: 12345678\n",
            "Enter the amount you want to withdraw: 2000\n",
            "Remaining Balance: 8000\n",
            "Do you want to continue withdrawing? (yes/no): yes\n",
            "Enter the amount you want to withdraw: 2000\n",
            "Remaining Balance: 6000\n",
            "Do you want to continue withdrawing? (yes/no): yes\n",
            "Enter the amount you want to withdraw: 0\n",
            "Withdrawl amount should be greater than 0\n",
            "Remaining Balance: 6000\n",
            "Enter the amount you want to withdraw: -100\n",
            "Withdrawl amount should be greater than 0\n",
            "Remaining Balance: 6000\n",
            "Enter the amount you want to withdraw: 4000\n",
            "Remaining Balance: 2000\n",
            "Do you want to continue withdrawing? (yes/no): yes\n",
            "Enter the amount you want to withdraw: 1500\n",
            "Remaining Balance: 500\n",
            "Do you want to continue withdrawing? (yes/no): yes\n",
            "Enter the amount you want to withdraw: 1000\n",
            "Insufficient Balance\n",
            "Remaining Balance: 500\n",
            "Enter the amount you want to withdraw: 500\n",
            "Remaining Balance: 0\n",
            "your balance is now zero. You can't make any further withdrawls.\n"
          ]
        }
      ]
    },
    {
      "cell_type": "code",
      "source": [
        "# Q.6 You have a list of student scores. Write a Python program that uses a loop to calculate the average score\n",
        "# and then classifies students as \"above average\" or \"below average\" based on their scores.\n",
        "\n",
        "scores = [[85,90,70,65,50],[56,78,97,56,45],[48,67,87,68,96]]\n",
        "\n",
        "for i in range(len(scores)):\n",
        "  total_score = 0\n",
        "  for score in scores[i]:\n",
        "    total_score += score\n",
        "  average_score = total_score / len(scores[i])\n",
        "\n",
        " # Q.6 You have a list of student scores. Write a Python program that uses a loop to calculate the average score\n",
        "# and then classifies students as \"above average\" or \"below average\" based on their scores.\n",
        "\n",
        "scores = [[85,90,70,65,50],[56,78,97,56,45],[48,67,87,68,96]]\n",
        "\n",
        "for i in range(len(scores)):\n",
        "  total_score = 0\n",
        "  for score in scores[i]:\n",
        "    total_score += score\n",
        "  average_score = total_score / len(scores[i])\n",
        "\n",
        "  if average_score >= 70:\n",
        "    print(f\"Student {i+1} is above average\")\n",
        "  else:\n",
        "    print(f\"Student {i+1} is below average\")"
      ],
      "metadata": {
        "colab": {
          "base_uri": "https://localhost:8080/"
        },
        "id": "Nk4tlJXWWYGX",
        "outputId": "67d6779f-9d65-43a6-c0b3-9851fc821587"
      },
      "id": "Nk4tlJXWWYGX",
      "execution_count": 26,
      "outputs": [
        {
          "output_type": "stream",
          "name": "stdout",
          "text": [
            "Student 1 is above average\n",
            "Student 2 is below average\n",
            "Student 3 is above average\n"
          ]
        }
      ]
    },
    {
      "cell_type": "code",
      "source": [
        "# Q.7 Given a tuple containing employee records (employee name, salary, department), write a Python program to print the names of employees who earn more than $50,000.\n",
        "\n",
        "employee = ((\"John\",50000,\"HR\"),(\"Jane\",45000,\"IT\"),(\"Jack\",55000,\"Finance\"),(\"Jill\",60000,\"HR\"),(\"Jay\",55000,\"IT\"))\n",
        "\n",
        "for name,salary,department in employee:\n",
        "  if salary > 50000:\n",
        "    print(f\"Employee Name: {name}\")"
      ],
      "metadata": {
        "colab": {
          "base_uri": "https://localhost:8080/"
        },
        "id": "3NkOLjbxoAV1",
        "outputId": "fc4582bb-b2e2-442c-c4dd-615b1782ad48"
      },
      "id": "3NkOLjbxoAV1",
      "execution_count": 27,
      "outputs": [
        {
          "output_type": "stream",
          "name": "stdout",
          "text": [
            "Employee Name: Jack\n",
            "Employee Name: Jill\n",
            "Employee Name: Jay\n"
          ]
        }
      ]
    },
    {
      "cell_type": "code",
      "source": [
        "# Q.8 Create a program that asks a customer for the total amount of their shopping bill. If the amount exceeds $200, apply a 15% holiday discount and print the final bill.\n",
        "\n",
        "total_bill = float(input(\"Enter the total amount of your shopping bill: \"))\n",
        "\n",
        "if total_bill > 200:\n",
        "  final_bill = total_bill *0.85\n",
        "print(f\"Final Bill: {final_bill}\")"
      ],
      "metadata": {
        "colab": {
          "base_uri": "https://localhost:8080/"
        },
        "id": "G9MQvxhop52K",
        "outputId": "f15853c0-c639-42bd-e3a3-e02760c4bfe6"
      },
      "id": "G9MQvxhop52K",
      "execution_count": 29,
      "outputs": [
        {
          "output_type": "stream",
          "name": "stdout",
          "text": [
            "Enter the total amount of your shopping bill: 250\n",
            "Final Bill: 212.5\n"
          ]
        }
      ]
    },
    {
      "cell_type": "code",
      "source": [
        "# Q.9 Write a Python program that takes a list of words and counts how many times each word appears in the list. Print each word along with its count.\n",
        "\n",
        "words = input(\"Enter a list of words: \")\n",
        "words = words.split(\",\")\n",
        "\n",
        "word_count = {}\n",
        "\n",
        "for word in words:\n",
        "  if word in word_count:\n",
        "    word_count[word] += 1\n",
        "  else:\n",
        "    word_count[word] = 1\n",
        "\n",
        "for word,count in word_count.items():\n",
        "  print(f\"{word}: {count}\")"
      ],
      "metadata": {
        "colab": {
          "base_uri": "https://localhost:8080/"
        },
        "id": "z94_kSxTrSuB",
        "outputId": "bde1ac29-b1d4-4c02-8b77-7a5a777ad26a"
      },
      "id": "z94_kSxTrSuB",
      "execution_count": 35,
      "outputs": [
        {
          "output_type": "stream",
          "name": "stdout",
          "text": [
            "Enter a list of words: hii,hello,apple,banana,hii,hello\n",
            "hii: 2\n",
            "hello: 2\n",
            "apple: 1\n",
            "banana: 1\n"
          ]
        }
      ]
    },
    {
      "cell_type": "code",
      "source": [
        "# Q.10 Write a Python program to print the following pattern using a loop:\n",
        "\n",
        "# 1\n",
        "# 1 2\n",
        "# 1 2 3\n",
        "# 1 2 3 4\n",
        "# 1 2 3 4 5\n",
        "\n",
        "for i in range(1,6):\n",
        "  for j in range(1,i+1):\n",
        "    print(j,end=\" \")\n",
        "  print()"
      ],
      "metadata": {
        "colab": {
          "base_uri": "https://localhost:8080/"
        },
        "id": "lsMxdKDYvZq_",
        "outputId": "44164947-8591-4fba-a423-2d45b17aa8b9"
      },
      "id": "lsMxdKDYvZq_",
      "execution_count": 36,
      "outputs": [
        {
          "output_type": "stream",
          "name": "stdout",
          "text": [
            "1 \n",
            "1 2 \n",
            "1 2 3 \n",
            "1 2 3 4 \n",
            "1 2 3 4 5 \n"
          ]
        }
      ]
    },
    {
      "cell_type": "code",
      "source": [],
      "metadata": {
        "id": "r1XU_8UQAvZw"
      },
      "id": "r1XU_8UQAvZw",
      "execution_count": null,
      "outputs": []
    }
  ],
  "metadata": {
    "kernelspec": {
      "display_name": "Python 3 (ipykernel)",
      "language": "python",
      "name": "python3"
    },
    "language_info": {
      "codemirror_mode": {
        "name": "ipython",
        "version": 3
      },
      "file_extension": ".py",
      "mimetype": "text/x-python",
      "name": "python",
      "nbconvert_exporter": "python",
      "pygments_lexer": "ipython3",
      "version": "3.9.12"
    },
    "colab": {
      "provenance": [],
      "include_colab_link": true
    }
  },
  "nbformat": 4,
  "nbformat_minor": 5
}