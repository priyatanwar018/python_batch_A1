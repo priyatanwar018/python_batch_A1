{
  "nbformat": 4,
  "nbformat_minor": 0,
  "metadata": {
    "colab": {
      "provenance": [],
      "authorship_tag": "ABX9TyOxTs9TaOduFoZ7o8b39Adc",
      "include_colab_link": true
    },
    "kernelspec": {
      "name": "python3",
      "display_name": "Python 3"
    },
    "language_info": {
      "name": "python"
    }
  },
  "cells": [
    {
      "cell_type": "markdown",
      "metadata": {
        "id": "view-in-github",
        "colab_type": "text"
      },
      "source": [
        "<a href=\"https://colab.research.google.com/github/priyatanwar018/python_batch_A1/blob/main/PythonSession4.ipynb\" target=\"_parent\"><img src=\"https://colab.research.google.com/assets/colab-badge.svg\" alt=\"Open In Colab\"/></a>"
      ]
    },
    {
      "cell_type": "code",
      "execution_count": null,
      "metadata": {
        "colab": {
          "base_uri": "https://localhost:8080/"
        },
        "id": "YNK25-F64v0w",
        "outputId": "78aa5185-52eb-4485-8954-a6656c48a82f"
      },
      "outputs": [
        {
          "output_type": "stream",
          "name": "stdout",
          "text": [
            "Enter total cart value: 56\n",
            "Enter total number of items: 4\n",
            "Final value: 53.2\n"
          ]
        }
      ],
      "source": [
        "# Ques 1 An online shopping site offers free shipping on orders over $50. Additionally, if a customer adds more than 3 items to their cart, they receive a 5% discount.\n",
        "# Write a python program that asks for the total cart value and the number of items in the cart, then calculates the final price after applying any discounts and shipping charges.\n",
        "\n",
        "total_value = int(input(\"Enter total cart value: \"))\n",
        "items = int(input(\"Enter total number of items: \"))\n",
        "\n",
        "if total_value > 50:\n",
        "  shipping_charges = 0\n",
        "\n",
        "  if items > 3:\n",
        "    final_value =total_value - (total_value * 0.05)\n",
        "  else:\n",
        "    final_value = total_value\n",
        "\n",
        "else:\n",
        "  shipping_charges = int(input(\"Enter shipping charges: \"))\n",
        "  final_value = total_value + shipping_charges\n",
        "\n",
        "\n",
        "print(f\"Final value: {final_value}\")\n"
      ]
    },
    {
      "cell_type": "code",
      "source": [
        "# Ques 2 A car rental service charges $40 per day for economy cars and $ 70 per day for luxury cars. If the rental period exceeds 7 days, customers get a discount of $10 per day\n",
        "# on economy cars and $15 on luxury cars. Write a program that takes the type of car(economy or luxury) and rental period as input, then calculates the total cost.\n",
        "\n",
        "car_type = input(\"Enter the type of car(economy or luxury): \")\n",
        "rental_period = int(input(\"Enter the rental period: \"))\n",
        "\n",
        "if car_type == \"economy\" or car_type == \"Economy\":\n",
        "  if rental_period > 7:\n",
        "    total_charges = 40 * rental_period - (10 * rental_period)\n",
        "  else:\n",
        "    total_charges = 40 * rental_period\n",
        "elif car_type == \"luxury\" or car_type == \"Luxury\":\n",
        "  if rental_period > 7:\n",
        "    total_charges = 70 * rental_period - (15 * rental_period)\n",
        "  else:\n",
        "    total_charges = 70 * rental_period\n",
        "else:\n",
        "  print(\"Enter a valid car type\")\n",
        "\n",
        "print(f\"Total charges: {total_charges}\")"
      ],
      "metadata": {
        "id": "iYDMPmSSCYCs",
        "colab": {
          "base_uri": "https://localhost:8080/"
        },
        "outputId": "f6f7ecad-4ca7-49b1-b60c-d29828ebebdd"
      },
      "execution_count": null,
      "outputs": [
        {
          "output_type": "stream",
          "name": "stdout",
          "text": [
            "Enter the type of car(economy or luxury): economy\n",
            "Enter the rental period: 12\n",
            "Total charges: 360\n"
          ]
        }
      ]
    },
    {
      "cell_type": "code",
      "source": [
        "# Ques 3 A bank evaluates loan eligibilty based on multiple conditions:\n",
        "# Applicant must have a minimum monthly salary of $3000\n",
        "# Credit score must be 700 or higher\n",
        "# If the applicant's salary is between $2500 and $3000, they can still qualify with a cosigner.\n",
        "# Write a program that takes the user's salary, credit score and cosigner availability and determines if the loan can be approved.\n",
        "\n",
        "salary = int(input(\"Enter your minimum salary: \"))\n",
        "credit_score = int(input(\"Enter your credit score:\"))\n",
        "\n",
        "if salary >= 3000 and credit_score >= 700:\n",
        "  print(\"Loan can be approved\")\n",
        "elif salary >= 2500 and salary < 3000:\n",
        "  cosigner = input(\"Do you have a cosigner(yes or no): \")\n",
        "  if cosigner == \"yes\" or cosigner == \"Yes\":\n",
        "    print(\"Loan can be approved\")\n",
        "  else:\n",
        "    print(\"Loan can not be approved\")\n",
        "else:\n",
        " print(\"Loan can not be approved\")"
      ],
      "metadata": {
        "colab": {
          "base_uri": "https://localhost:8080/"
        },
        "id": "cZTPFEzeJMI_",
        "outputId": "eeadcf99-f5b7-4e54-b8b6-5dc75d185188"
      },
      "execution_count": null,
      "outputs": [
        {
          "output_type": "stream",
          "name": "stdout",
          "text": [
            "Enter your minimum salary: 2800\n",
            "Enter your credit score:759\n",
            "Do you have a cosigner(yes or no): Yes\n",
            "Loan can be approved\n"
          ]
        }
      ]
    },
    {
      "cell_type": "code",
      "source": [
        "# Ques 4 An insurance company calculates premiums based on a person's risk factors:\n",
        "# Base premium is $500\n",
        "# If the person smokes, a surcharge of $200 is added\n",
        "# If the person is over 60, a surcharge of $150 is added\n",
        "# If the person has a person has a pre-existeng medical condition, a surcharge of $300 is added\n",
        "# Write a program that calculate the total premium based on the person's risk factors\n",
        "\n",
        "base_premium = 500\n",
        "smoker = input(\"Do you smoke(yes or no): \")\n",
        "age = int(input(\"Enter your age: \"))\n",
        "medical_condition = input(\"Do you have a pre-existing medical condition(yes or no): \")\n",
        "total_premium = 0\n",
        "\n",
        "if smoker == \"yes\" or smoker == \"Yes\":\n",
        "  total_premium = base_premium + 200\n",
        "else:\n",
        "  total_premium = base_premium\n",
        "\n",
        "if age > 60:\n",
        "  total_premium += 150\n",
        "\n",
        "if medical_condition == \"yes\" or medical_condition == \"Yes\":\n",
        "  total_premium += 300\n",
        "\n",
        "print(f\"Total premium : {total_premium}\")"
      ],
      "metadata": {
        "colab": {
          "base_uri": "https://localhost:8080/"
        },
        "id": "BuEg2o1oNl77",
        "outputId": "dd1e9439-812c-422d-c032-6475ebf11d70"
      },
      "execution_count": null,
      "outputs": [
        {
          "output_type": "stream",
          "name": "stdout",
          "text": [
            "Do you smoke(yes or no): no\n",
            "Enter your age: 65\n",
            "Do you have a pre-existing medical condition(yes or no): yes\n",
            "Total premium : 950\n"
          ]
        }
      ]
    },
    {
      "cell_type": "code",
      "source": [
        "# Ques 5 A restaurant dynamically adjsuts prices based on the time of the day:\n",
        "# Breakfast (6 AM - 11 AM): 20% off\n",
        "# Lunch (11 AM - 4 PM): No discount\n",
        "# Dinner (4 PM - 10 PM): 15% off\n",
        "# Late-night (10 Pm - 6 AM): 10% surcharge\n",
        "# Write a progam that takes the meal time and base price of a meal as inputs and calculates the final price based on the time of the day.\n",
        "\n",
        "meal_time = input(\"Enter your meal time(breakfast, lunch, dinner, late-night): \")\n",
        "base_price = int(input(\"Enter the base price of your meal: \"))\n",
        "\n",
        "if meal_time == \"breakfast\" or meal_time == \"Breakfast\":\n",
        "  final_price = base_price * 0.8\n",
        "elif meal_time == \"lunch\" or meal_time == \"Lunch\":\n",
        "  final_price = base_price\n",
        "elif meal_time == \"dinner\" or meal_time == \"Dinner\":\n",
        "  final_price = base_price * 0.85\n",
        "elif meal_time == \"late-night\" or meal_time == \"Late-night\":\n",
        "  final_price = base_price * 1.1\n",
        "else:\n",
        "  print(\"Enter a valid meal time\")\n",
        "print(f\"Final Price: ${final_price}\")"
      ],
      "metadata": {
        "id": "Wokwo7oCRwdO",
        "colab": {
          "base_uri": "https://localhost:8080/"
        },
        "outputId": "aa3235c0-e7ef-4ab0-ad27-dc68fc5f4c3a"
      },
      "execution_count": 2,
      "outputs": [
        {
          "output_type": "stream",
          "name": "stdout",
          "text": [
            "Enter your meal time(breakfast, lunch, dinner, late-night): dinner\n",
            "Enter the base price of your meal: 20\n",
            "Final Price: $17.0\n"
          ]
        }
      ]
    },
    {
      "cell_type": "code",
      "source": [
        "# Ques 6 A university uses multiple factors to decide admission:\n",
        "# The student must have a SAT score of atleast 1200 or an ACT score of atleast 28\n",
        "# The student's GPA must be atleast 3.5\n",
        "# If the student is an athlete or has community service of over 100 hours, they get special consideration and can be admitted with a GPA of 3.0 and lower test scores.\n",
        "# Write a Python program asks for student's SAT/ACT score, GPA, community service hours, and determines if the student is admitted.\n",
        "\n",
        "sat = input(\"Enter your SAT score(otherwise enter NA): \")\n",
        "if sat == \"na\" or sat == \"NA\":\n",
        "  sat_score = None\n",
        "  act_score = int(input(\"Enter your ACT score: \"))\n",
        "else:\n",
        "  sat_score = int(sat)\n",
        "  act_score = None\n",
        "\n",
        "gpa = float(input(\"Enter your GPA: \"))\n",
        "\n",
        "athlete = input(\"Are you an athlete(yes or no): \")\n",
        "if athlete == \"no\" or athlete == 'No':\n",
        "  community_service = int(input(\"Enter your community service hours: \"))\n",
        "else:\n",
        "  community_service = 0\n",
        "\n",
        "if (sat_score is not None and sat_score >= 1200)  or (act_score is not None and act_score >= 28):\n",
        "  if gpa >= 3.5:\n",
        "    print(\"You are admitted\")\n",
        "\n",
        "  elif (athlete == \"yes\" or athlete == \"Yes\" or community_service > 100) and gpa >= 3.0:\n",
        "    print(\"You are admitted\")\n",
        "  else:\n",
        "    print(\"Youa are not admitted\")\n",
        "else:\n",
        "  print(\"You are not admitted\")"
      ],
      "metadata": {
        "id": "NAbnOkSkq6f7",
        "colab": {
          "base_uri": "https://localhost:8080/"
        },
        "outputId": "b75ae8a5-cb71-451a-8cf2-2632ad14952d"
      },
      "execution_count": 14,
      "outputs": [
        {
          "output_type": "stream",
          "name": "stdout",
          "text": [
            "Enter your SAT score(otherwise enter NA): na\n",
            "Enter your ACT score: 30\n",
            "Enter your GPA: 3.3\n",
            "Are you an athlete(yes or no): no\n",
            "Enter your community service hours: 110\n",
            "You are admitted\n"
          ]
        }
      ]
    },
    {
      "cell_type": "code",
      "source": [
        "# Ques 7 A car dealership offers a bonus to buyers who purchase fuel-efficient cars. The bonus system is as follows:\n",
        "# Cars with a fuel efficiency rating over 30 miles per gallon (MPG) recieve a $500 rebate.\n",
        "# Cars with an MPG between 20 and 30 receive no rebate.\n",
        "# Cars with an MPG below 20 are charged an additional fee of $300 for environmental impact.\n",
        "# Write a program that calculates the final cost of the car based based on it's fuel efficiency and type.\n",
        "\n",
        "fuel_efficiency = int(input(\"Enter your car's fuel efficiency rating: \"))\n",
        "base_price = int(input(\"Enter your car's base price: \"))\n",
        "if fuel_efficiency > 30:\n",
        "  final_cost = base_price - 500\n",
        "elif 20 <= fuel_efficiency <= 30:\n",
        "   final_cost = base_price\n",
        "else:\n",
        "   final_cost = base_price + 300\n",
        "\n",
        "print(f\"Final cost: ${final_cost}\")"
      ],
      "metadata": {
        "id": "8vAjrZ-8sGoo",
        "colab": {
          "base_uri": "https://localhost:8080/"
        },
        "outputId": "fb8a8e5e-473c-4ab5-fae2-ececdf1f430f"
      },
      "execution_count": 20,
      "outputs": [
        {
          "output_type": "stream",
          "name": "stdout",
          "text": [
            "Enter your car's fuel efficiency rating: 19\n",
            "Enter your car's base price: 19000\n",
            "Final cost: $19300\n"
          ]
        }
      ]
    },
    {
      "cell_type": "code",
      "source": [
        "# Ques 8 A company awards a performance bonus to employees based on their performance rating:\n",
        "# Rating of 4.5 or above: 20% of the annual salary is a bonus\n",
        "# Rating between 3.0 and 4.4: 10% of the annual salary\n",
        "# Rating below 3.0: No bonus, but a mandatory training is required. Additionally, employees who have been with the company for over 5 years get an extra 5% bonus.\n",
        "# Write a python program that takes the employee's rating, salary, and years of service, and calculates the total bonus.\n",
        "\n",
        "rating = float(input(\"Enter your rating: \"))\n",
        "time = float(input(\"How many years have you spent with company\"))\n",
        "annual_salary = int(input(\"Enter your annual salary: \"))\n",
        "\n",
        "if rating >= 4.5:\n",
        "  if time > 5:\n",
        "    total_bonus = annual_salary * 0.25\n",
        "  else:\n",
        "    total_bonus = annual_salary * 0.2\n",
        "elif 3.0 <= rating <= 4.4:\n",
        "  if time > 5:\n",
        "    total_bonus = annual_salary * 0.15\n",
        "  else:\n",
        "    total_bonus = annual_salary * 0.1\n",
        "else:\n",
        "  print(\"No bonus, but a mandatory training is required\")\n",
        "\n",
        "print(f\"Total bonus: ${total_bonus}\")\n",
        "\n",
        "\n"
      ],
      "metadata": {
        "id": "lTSIOxzAtRmZ",
        "colab": {
          "base_uri": "https://localhost:8080/"
        },
        "outputId": "4f28505e-257e-43c6-9fca-b908763446ef"
      },
      "execution_count": 21,
      "outputs": [
        {
          "output_type": "stream",
          "name": "stdout",
          "text": [
            "Enter your rating: 4\n",
            "How many years have you spent with company6\n",
            "Enter your annual salary: 10000\n",
            "Total bonus: $1500.0\n"
          ]
        }
      ]
    },
    {
      "cell_type": "code",
      "source": [
        "# Ques 9 A fitness app tracks user's daily steps and provides rewards based on performance:\n",
        "# If the user hits their step goal (10,000 steps), they earn 100 points\n",
        "# If the user exceds the step goal by 20% or more, they earn 150 points\n",
        "# If the user reaches between 80% and 99% of the goal, they earn 50 points\n",
        "# If the user hits less than 80% of the goal, no points are awarded\n",
        "# Write a program that calculates the number of points earned based in the user's step count\n",
        "\n",
        "step_goal = 10000\n",
        "step_count = int(input(\"Enter your step count: \"))\n",
        "\n",
        "if step_count >= step_goal * 1.2:\n",
        "  points = 150\n",
        "elif step_count > step_goal:\n",
        "  points = 100\n",
        "elif step_count >= step_goal * 0.8 or step_count <= step_goal *0.99:\n",
        "  pints = 50\n",
        "else:\n",
        "  print(\"No points are rewarded\")\n",
        "\n",
        "print(f\"Points earned: {points}\")"
      ],
      "metadata": {
        "id": "SBf1FjXxunDF",
        "colab": {
          "base_uri": "https://localhost:8080/"
        },
        "outputId": "1266467e-6919-4e9c-87e5-8ede2ac27454"
      },
      "execution_count": 23,
      "outputs": [
        {
          "output_type": "stream",
          "name": "stdout",
          "text": [
            "Enter your step count: 12000\n",
            "Points earned: 150\n"
          ]
        }
      ]
    },
    {
      "cell_type": "code",
      "source": [
        "# Ques 10 A city monitors air quality and issues warnings based on the AQI(Air Quality Index)\n",
        "# AQI below 50: \"Good\" air quality, no action needed\n",
        "# AQI between 50 and 100: \"Moderate\", sensitive individuals should reduce outdoor activity\n",
        "# AQI between 100 and 150: \"Unhealthy for sensitive groups\",outdoor activities should be minimized\n",
        "# AQI above 150: \"Unhealthy\", all residents should avoid outdoor activities\n",
        "# Write a python program that takes the AQI as input and displays the appropriate warning message\n",
        "\n",
        "aqi = int(input(\"Enter the AQI: \"))\n",
        "\n",
        "if aqi < 50:\n",
        "  print(f\"Air Quality: Good\")\n",
        "  print(\"No action needed\")\n",
        "elif 50 <= aqi <= 100:\n",
        "  print(f\"Air Quality: Moderate\")\n",
        "  print(\"Sensitive individuals should reduce outdoor activity\")\n",
        "elif 100 < aqi <= 150:\n",
        "  print(f\"Air Quality: Unhealthy for sensitive groups\")\n",
        "  print(\"Outdoor activities should be minimized\")\n",
        "else:\n",
        "  print(f\"Air Quality: Unhealthy\")\n",
        "  print(\"All residents should avoid outdoor activities\")"
      ],
      "metadata": {
        "colab": {
          "base_uri": "https://localhost:8080/"
        },
        "id": "9n0t1GKpU6kj",
        "outputId": "d6c22f61-123a-4ec7-a87a-59b1d2433883"
      },
      "execution_count": 24,
      "outputs": [
        {
          "output_type": "stream",
          "name": "stdout",
          "text": [
            "Enter the AQI: 40\n",
            "Air Quality: Good\n",
            "No action needed\n"
          ]
        }
      ]
    },
    {
      "cell_type": "code",
      "source": [],
      "metadata": {
        "id": "5rFhWAyKYtoQ"
      },
      "execution_count": null,
      "outputs": []
    }
  ]
}