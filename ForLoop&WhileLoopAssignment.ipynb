{
  "nbformat": 4,
  "nbformat_minor": 0,
  "metadata": {
    "colab": {
      "provenance": [],
      "authorship_tag": "ABX9TyNFFXYibgFlCPTnYb0E8cUy",
      "include_colab_link": true
    },
    "kernelspec": {
      "name": "python3",
      "display_name": "Python 3"
    },
    "language_info": {
      "name": "python"
    }
  },
  "cells": [
    {
      "cell_type": "markdown",
      "metadata": {
        "id": "view-in-github",
        "colab_type": "text"
      },
      "source": [
        "<a href=\"https://colab.research.google.com/github/priyatanwar018/python_batch_A1/blob/main/ForLoop%26WhileLoopAssignment.ipynb\" target=\"_parent\"><img src=\"https://colab.research.google.com/assets/colab-badge.svg\" alt=\"Open In Colab\"/></a>"
      ]
    },
    {
      "cell_type": "code",
      "execution_count": 1,
      "metadata": {
        "colab": {
          "base_uri": "https://localhost:8080/"
        },
        "id": "RnoCbmigh2Ki",
        "outputId": "d33b21c3-e25c-4581-e7fe-4613b4e04483"
      },
      "outputs": [
        {
          "output_type": "stream",
          "name": "stdout",
          "text": [
            "Enter a number upto which you want to print the natural numbers: 10\n",
            "1\n",
            "2\n",
            "3\n",
            "4\n",
            "5\n",
            "6\n",
            "7\n",
            "8\n",
            "9\n",
            "10\n"
          ]
        }
      ],
      "source": [
        "# 1. Write a program to print all natural numbers from 1 to n. – using while loop\n",
        "\n",
        "n = int(input(\"Enter a number upto which you want to print the natural numbers: \"))\n",
        "i = 1\n",
        "\n",
        "while i <= n:\n",
        "  print(i)\n",
        "  i += 1"
      ]
    },
    {
      "cell_type": "code",
      "source": [
        "# 2. Write a program to print all natural numbers in reverse (from n to 1). –using while loop\n",
        "\n",
        "n = int(input(\"Enter a number upto which you wan to print the natural numbers in reverse: \"))\n",
        "i = 1\n",
        "\n",
        "while i <= n:\n",
        "  print(n)\n",
        "  n -= 1"
      ],
      "metadata": {
        "colab": {
          "base_uri": "https://localhost:8080/"
        },
        "id": "p71ERUxC_ELQ",
        "outputId": "411917d3-9584-46dd-c43e-62e08f9831e7"
      },
      "execution_count": 2,
      "outputs": [
        {
          "output_type": "stream",
          "name": "stdout",
          "text": [
            "Enter a number upto which you wan to print the natural numbers in reverse: 10\n",
            "10\n",
            "9\n",
            "8\n",
            "7\n",
            "6\n",
            "5\n",
            "4\n",
            "3\n",
            "2\n",
            "1\n"
          ]
        }
      ]
    },
    {
      "cell_type": "code",
      "source": [
        "# 3. Write a program to print all alphabets from a to z. – using while loop\n",
        "\n",
        "i = 97\n",
        "\n",
        "while i <= 122:\n",
        "  print(chr(i))\n",
        "  i += 1"
      ],
      "metadata": {
        "colab": {
          "base_uri": "https://localhost:8080/"
        },
        "id": "1MPgEIgQ_f0c",
        "outputId": "ac8fe6c9-26c9-43d7-ad86-5789c91d7ae9"
      },
      "execution_count": 3,
      "outputs": [
        {
          "output_type": "stream",
          "name": "stdout",
          "text": [
            "a\n",
            "b\n",
            "c\n",
            "d\n",
            "e\n",
            "f\n",
            "g\n",
            "h\n",
            "i\n",
            "j\n",
            "k\n",
            "l\n",
            "m\n",
            "n\n",
            "o\n",
            "p\n",
            "q\n",
            "r\n",
            "s\n",
            "t\n",
            "u\n",
            "v\n",
            "w\n",
            "x\n",
            "y\n",
            "z\n"
          ]
        }
      ]
    },
    {
      "cell_type": "code",
      "source": [
        "# 4. Write a program to print all even numbers between 1 to 100. – using while loop\n",
        "\n",
        "i = 2\n",
        "\n",
        "while i <= 100:\n",
        "  print(i)\n",
        "  i += 2"
      ],
      "metadata": {
        "colab": {
          "base_uri": "https://localhost:8080/"
        },
        "id": "w1ez1WqF_rI1",
        "outputId": "c371106b-18b3-4401-8c6d-d509fc043baf"
      },
      "execution_count": 4,
      "outputs": [
        {
          "output_type": "stream",
          "name": "stdout",
          "text": [
            "2\n",
            "4\n",
            "6\n",
            "8\n",
            "10\n",
            "12\n",
            "14\n",
            "16\n",
            "18\n",
            "20\n",
            "22\n",
            "24\n",
            "26\n",
            "28\n",
            "30\n",
            "32\n",
            "34\n",
            "36\n",
            "38\n",
            "40\n",
            "42\n",
            "44\n",
            "46\n",
            "48\n",
            "50\n",
            "52\n",
            "54\n",
            "56\n",
            "58\n",
            "60\n",
            "62\n",
            "64\n",
            "66\n",
            "68\n",
            "70\n",
            "72\n",
            "74\n",
            "76\n",
            "78\n",
            "80\n",
            "82\n",
            "84\n",
            "86\n",
            "88\n",
            "90\n",
            "92\n",
            "94\n",
            "96\n",
            "98\n",
            "100\n"
          ]
        }
      ]
    },
    {
      "cell_type": "code",
      "source": [
        "# 5. Write a program to find the sum of all odd numbers between 1 to n.\n",
        "\n",
        "n = int(input(\"Enter a number upto which you want to find the sum of all odd numbers: \"))\n",
        "i = 1\n",
        "sum = 0\n",
        "\n",
        "while i <= n:\n",
        "  if i % 2 != 0:\n",
        "    sum += i\n",
        "  i += 1\n",
        "print(sum)"
      ],
      "metadata": {
        "colab": {
          "base_uri": "https://localhost:8080/"
        },
        "id": "vLpvXSjA_5o5",
        "outputId": "11504e0f-de2d-4ed2-ca2c-24aaa0c4e729"
      },
      "execution_count": 8,
      "outputs": [
        {
          "output_type": "stream",
          "name": "stdout",
          "text": [
            "Enter a number upto which you want to find the sum of all odd numbers: 20\n",
            "100\n"
          ]
        }
      ]
    },
    {
      "cell_type": "code",
      "source": [
        "# 6. Write a program to count the number of digits in a number.\n",
        "\n",
        "num = int(input(\"Enter a number: \"))\n",
        "temp = num\n",
        "count = 0\n",
        "\n",
        "while temp > 0:\n",
        "  temp //= 10\n",
        "  count += 1\n",
        "print(f\"{num} have {count} digits\")"
      ],
      "metadata": {
        "colab": {
          "base_uri": "https://localhost:8080/"
        },
        "id": "13M18xUmAUTy",
        "outputId": "b4df1c36-1cab-46f4-d20b-9cfb42491a03"
      },
      "execution_count": 10,
      "outputs": [
        {
          "output_type": "stream",
          "name": "stdout",
          "text": [
            "Enter a number: 12346\n",
            "12346 have 5 digits\n"
          ]
        }
      ]
    },
    {
      "cell_type": "code",
      "source": [
        "# 7. Write a program to calculate the sum of digits of a number.\n",
        "\n",
        "num = int(input(\"Enter a number: \"))\n",
        "temp = num\n",
        "sum = 0\n",
        "\n",
        "while temp > 0:\n",
        "  rem = temp % 10\n",
        "  sum += rem\n",
        "  temp //= 10\n",
        "print(f\"Sum of digits of {num} is {sum}\")"
      ],
      "metadata": {
        "colab": {
          "base_uri": "https://localhost:8080/"
        },
        "id": "JtwDutJQBBpq",
        "outputId": "6afc7f49-857c-41de-e7a8-a24b99421994"
      },
      "execution_count": 13,
      "outputs": [
        {
          "output_type": "stream",
          "name": "stdout",
          "text": [
            "Enter a number: 47584\n",
            "Sum of digits of 47584 is 28\n"
          ]
        }
      ]
    },
    {
      "cell_type": "code",
      "source": [
        "# 8. Write a program to find the first and last digit of a number.\n",
        "\n",
        "num = int(input(\"Enter a number: \"))\n",
        "temp = str(num)\n",
        "length = len(temp)\n",
        "\n",
        "first_digit = temp[0]\n",
        "last_digit = temp[length - 1]\n",
        "\n",
        "print(f\"First digit of {num} is {first_digit}\")\n",
        "print(f\"Last digit of {num} is {last_digit}\")\n"
      ],
      "metadata": {
        "colab": {
          "base_uri": "https://localhost:8080/"
        },
        "id": "QPngWEAUBnEg",
        "outputId": "3675a7ee-e62a-48ec-ec1f-4bd909152a53"
      },
      "execution_count": 16,
      "outputs": [
        {
          "output_type": "stream",
          "name": "stdout",
          "text": [
            "Enter a number: 1234\n",
            "First digit of 1234 is 1\n",
            "Last digit of 1234 is 4\n"
          ]
        }
      ]
    },
    {
      "cell_type": "code",
      "source": [
        "# 9. Write a program to find the sum of first and last digit of a number.\n",
        "\n",
        "num = int(input(\"Enter a number: \"))\n",
        "temp = str(num)\n",
        "length = len(temp)\n",
        "\n",
        "first_digit = int(temp[0])\n",
        "last_digit = int(temp[length - 1])\n",
        "\n",
        "print(f\"Sum of first and last digit of {num} is {first_digit + last_digit}\")\n"
      ],
      "metadata": {
        "colab": {
          "base_uri": "https://localhost:8080/"
        },
        "id": "uVujhRizDwFl",
        "outputId": "1a7d2c7b-3c27-41f0-ecc8-d24ad08120f2"
      },
      "execution_count": 17,
      "outputs": [
        {
          "output_type": "stream",
          "name": "stdout",
          "text": [
            "Enter a number: 463375\n",
            "Sum of first and last digit of 463375 is 9\n"
          ]
        }
      ]
    },
    {
      "cell_type": "code",
      "source": [
        "# 10.Write a program to enter a number and print its reverse.\n",
        "\n",
        "num = int(input(\"Enter a number: \"))\n",
        "temp = num\n",
        "reverse = 0\n",
        "\n",
        "while temp > 0:\n",
        "  rem = temp % 10\n",
        "  reverse = reverse * 10 + rem\n",
        "  temp //= 10\n",
        "print(f\"Reverse of {num} is {reverse}\")"
      ],
      "metadata": {
        "colab": {
          "base_uri": "https://localhost:8080/"
        },
        "id": "ZCWC_cuiEuGb",
        "outputId": "ffea5112-915a-4b4c-9da9-c3a0238ea349"
      },
      "execution_count": 18,
      "outputs": [
        {
          "output_type": "stream",
          "name": "stdout",
          "text": [
            "Enter a number: 3784\n",
            "Reverse of 3784 is 4873\n"
          ]
        }
      ]
    },
    {
      "cell_type": "code",
      "source": [
        "# 11.Write a program to find the power of a number using for loop.\n",
        "\n",
        "base = int(input(\"Enter a base: \"))\n",
        "power = int(input(\"Enter a power: \"))\n",
        "result = 1\n",
        "\n",
        "for i in range(power):\n",
        "  result *= base\n",
        "print(f\"{base} power {power} is {result}\")"
      ],
      "metadata": {
        "colab": {
          "base_uri": "https://localhost:8080/"
        },
        "id": "xXIyAkGcFLn7",
        "outputId": "85093b33-e452-4333-df1e-81b9b63f9fbc"
      },
      "execution_count": 19,
      "outputs": [
        {
          "output_type": "stream",
          "name": "stdout",
          "text": [
            "Enter a base: 4\n",
            "Enter a power: 3\n",
            "4 power 3 is 64\n"
          ]
        }
      ]
    },
    {
      "cell_type": "code",
      "source": [
        "# 12.Write a program to find all factors of a number.\n",
        "\n",
        "num = int(input(\"Enter a number: \"))\n",
        "i = 1\n",
        "\n",
        "print(f\"Factors of {num} are:\")\n",
        "while i <= num:\n",
        "  if num % i == 0:\n",
        "    print(i)\n",
        "  i += 1\n",
        "\n",
        "\n"
      ],
      "metadata": {
        "colab": {
          "base_uri": "https://localhost:8080/"
        },
        "id": "MXoq0cQOFpml",
        "outputId": "7a29c4e1-c69e-41c7-881d-795c64214a29"
      },
      "execution_count": 20,
      "outputs": [
        {
          "output_type": "stream",
          "name": "stdout",
          "text": [
            "Enter a number: 10\n",
            "Factors of 10 are:\n",
            "1\n",
            "2\n",
            "5\n",
            "10\n"
          ]
        }
      ]
    },
    {
      "cell_type": "code",
      "source": [
        "# 13.Write a program to calculate the factorial of a number.\n",
        "\n",
        "num = int(input(\"Enter a number: \"))\n",
        "i = 1\n",
        "factorial = 1\n",
        "\n",
        "while i <= num:\n",
        "  factorial *= i\n",
        "  i += 1\n",
        "print(f\"Factorial of {num} is {factorial}\")"
      ],
      "metadata": {
        "colab": {
          "base_uri": "https://localhost:8080/"
        },
        "id": "VX2sO2qpRaqB",
        "outputId": "e1dcaefd-559d-4e01-ea21-9a13de670567"
      },
      "execution_count": 22,
      "outputs": [
        {
          "output_type": "stream",
          "name": "stdout",
          "text": [
            "Enter a number: 5\n",
            "Factorial of 5 is 120\n"
          ]
        }
      ]
    },
    {
      "cell_type": "code",
      "source": [
        "# 14.Write a program to find LCM of two numbers.\n",
        "\n",
        "num1 = int(input(\"Enter first number: \"))\n",
        "num2 = int(input(\"Enter second number: \"))\n",
        "\n",
        "max = max(num1,num2)\n",
        "\n",
        "for i in range(max, num1 * num2 +1):\n",
        "  if i % num1 == 0 and i % num2 == 0:\n",
        "    print(f\"LCM of {num1} and {num2} is {i}\")\n",
        "    break\n"
      ],
      "metadata": {
        "colab": {
          "base_uri": "https://localhost:8080/"
        },
        "id": "zHSYe4KtR0sF",
        "outputId": "5bfa8c6a-57c7-4cd4-add3-234dd717939a"
      },
      "execution_count": 9,
      "outputs": [
        {
          "output_type": "stream",
          "name": "stdout",
          "text": [
            "Enter first number: 4\n",
            "Enter second number: 2\n",
            "LCM of 4 and 2 is 4\n"
          ]
        }
      ]
    },
    {
      "cell_type": "code",
      "source": [
        "# 15.Write a program to check whether a number is Prime number or not.\n",
        "\n",
        "num = int(input(\"Enter a number: \"))\n",
        "limit = int(num/2) +1\n",
        "\n",
        "for i in range(2, limit):\n",
        "  rem = num % 10\n",
        "  if rem == 0:\n",
        "    print(f\"{num} is not a prime number\")\n",
        "    break\n",
        "else:\n",
        "  print(f\"{num} is a prime number\")"
      ],
      "metadata": {
        "colab": {
          "base_uri": "https://localhost:8080/"
        },
        "id": "P_0qqyG2V7bz",
        "outputId": "6b628451-3a0d-48f9-990f-986a941cb494"
      },
      "execution_count": 2,
      "outputs": [
        {
          "output_type": "stream",
          "name": "stdout",
          "text": [
            "Enter a number: 23\n",
            "23 is a prime number\n"
          ]
        }
      ]
    },
    {
      "cell_type": "code",
      "source": [
        "# 16.Write a program to print all Prime numbers between 1 to n.\n",
        "\n",
        "num = int(input(\"Enter a number: \"))\n",
        "\n",
        "print(f\"Prime numbers from 1 to {num} are: \")\n",
        "for i in range(2,num+1):\n",
        "  for j in range(2,int(i/2)+1):\n",
        "    rem = i % j\n",
        "    if rem == 0:\n",
        "      break\n",
        "  else:\n",
        "    print(i)\n",
        ""
      ],
      "metadata": {
        "colab": {
          "base_uri": "https://localhost:8080/"
        },
        "id": "4G40Nb98WW6A",
        "outputId": "48ae78df-aeff-4b92-8a2f-f39fa7028a52"
      },
      "execution_count": 8,
      "outputs": [
        {
          "output_type": "stream",
          "name": "stdout",
          "text": [
            "Enter a number: 20\n",
            "Prime numbers from 1 to 20 are: \n",
            "2\n",
            "3\n",
            "5\n",
            "7\n",
            "11\n",
            "13\n",
            "17\n",
            "19\n"
          ]
        }
      ]
    },
    {
      "cell_type": "code",
      "source": [
        "# 17.Write a program to find all prime factors of a number.\n",
        "\n",
        "num = int(input(\"Enter a number: \"))\n",
        "print(f\"Prime factors of {num} are: \")\n",
        "for i in range(2, num+1):\n",
        "  while num % i == 0:\n",
        "    print(i)\n",
        "    num //= i"
      ],
      "metadata": {
        "colab": {
          "base_uri": "https://localhost:8080/"
        },
        "id": "122l6AL5WZsp",
        "outputId": "f95c01db-f13f-445f-94b4-0f127ce4c4ca"
      },
      "execution_count": 17,
      "outputs": [
        {
          "output_type": "stream",
          "name": "stdout",
          "text": [
            "Enter a number: 20\n",
            "Prime factors of 20 are: \n",
            "2\n",
            "2\n",
            "5\n"
          ]
        }
      ]
    },
    {
      "cell_type": "code",
      "source": [
        "# 18.Write a program to check whether a number is an Armstrong number or not.\n",
        "# a. An Armstrong number is a n-digit number that is equal to the sum of the nth power of its digits. For example –\n",
        "# 6 = 6^1 = 6\n",
        "# 371 = 3^3 + 7^3 + 1^3 = 371\n",
        "\n",
        "num = int(input(\"Enter a number: \"))\n",
        "length = len(str(num))\n",
        "temp = num\n",
        "sum = 0\n",
        "\n",
        "while temp > 0:\n",
        "  rem = temp % 10\n",
        "  sum += rem ** length\n",
        "  temp //= 10\n",
        "\n",
        "if sum == num:\n",
        "  print(f\"{num} is an Armstrong number\")\n",
        "else:\n",
        "  print(f\"{num} is not an Armstrong number\")"
      ],
      "metadata": {
        "colab": {
          "base_uri": "https://localhost:8080/"
        },
        "id": "JZrmrTC-WcVn",
        "outputId": "9352cc85-9c4a-4594-ef90-f573a695a32e"
      },
      "execution_count": 19,
      "outputs": [
        {
          "output_type": "stream",
          "name": "stdout",
          "text": [
            "Enter a number: 371\n",
            "371 is an Armstrong number\n"
          ]
        }
      ]
    },
    {
      "cell_type": "code",
      "source": [
        "# 19.Write a program to check whether a number is Strong number or not\n",
        "# a. Strong number is a special number whose sum of factorial digits is equal to the original number.\n",
        "# For example: 145 is a strong number. Since, 1! + 4! + 5! = 145\n",
        "\n",
        "num = int(input(\"Enter a number: \"))\n",
        "temp = num\n",
        "sum = 0\n",
        "fact = 1\n",
        "\n",
        "while temp > 0:\n",
        "  rem = temp % 10\n",
        "  for i in range(1, rem+1):\n",
        "    fact *= i\n",
        "  sum += fact\n",
        "  temp //= 10\n",
        "  fact = 1\n",
        "\n",
        "if sum == num:\n",
        "  print(f\"{num} is a strong number\")\n",
        "else:\n",
        "  print(f\"{num} is not a strong number\")"
      ],
      "metadata": {
        "colab": {
          "base_uri": "https://localhost:8080/"
        },
        "id": "leJ4cZmOWlS_",
        "outputId": "947ff2bd-cef1-4d0a-a042-298fb6dbcc3b"
      },
      "execution_count": 21,
      "outputs": [
        {
          "output_type": "stream",
          "name": "stdout",
          "text": [
            "Enter a number: 145\n",
            "145 is a strong number\n"
          ]
        }
      ]
    },
    {
      "cell_type": "code",
      "source": [
        "# 20.Write a program to check whether a number is perfect number or not\n",
        "# a. Perfect number is a positive integer which is equal to the sum of its proper positive divisors.\n",
        "# For example: 6 is the first perfect number\n",
        "# Proper divisors of 6 are 1, 2, 3\n",
        "# Sum of its proper divisors = 1 + 2 + 3 = 6.\n",
        "# Hence 6 is a perfect number.\n",
        "\n",
        "num = int(input(\"Enter a number: \"))\n",
        "sum = 0\n",
        "\n",
        "for i in range(1, num):\n",
        "  if num % i == 0:\n",
        "    sum += i\n",
        "\n",
        "if sum == num:\n",
        "  print(f\"{num} is a perfect number\")\n",
        "else:\n",
        "  print(f\"{num} is not a perfect number\")"
      ],
      "metadata": {
        "colab": {
          "base_uri": "https://localhost:8080/"
        },
        "id": "ZZMYQUx5Wqqi",
        "outputId": "7d0c6759-4ec3-47fa-e1ca-8f0bcc13dbd8"
      },
      "execution_count": 34,
      "outputs": [
        {
          "output_type": "stream",
          "name": "stdout",
          "text": [
            "Enter a number: 28\n",
            "28 is a perfect number\n"
          ]
        }
      ]
    },
    {
      "cell_type": "code",
      "source": [
        "# 21.Write a program to print fibonacci series upto n terms\n",
        "# a. Fibonacci series is a series of numbers where the current number is the sum of the previous two terms.\n",
        "# For Example: 0, 1, 1, 2, 3, 5, 8, 13, 21, ... , (n-1th + n-2th)\n",
        "\n",
        "num = int(input(\"Enter a number: \"))\n",
        "a = 0\n",
        "b = 1\n",
        "print(a)\n",
        "print(b)\n",
        "\n",
        "for i in range(2, num):\n",
        "  c = a + b\n",
        "  print(c)\n",
        "  a = b\n",
        "  b = c"
      ],
      "metadata": {
        "colab": {
          "base_uri": "https://localhost:8080/"
        },
        "id": "B8V7eP8ZW3QC",
        "outputId": "7284a76c-af73-4616-f354-6b5ff1e80e1a"
      },
      "execution_count": 35,
      "outputs": [
        {
          "output_type": "stream",
          "name": "stdout",
          "text": [
            "Enter a number: 10\n",
            "0\n",
            "1\n",
            "1\n",
            "2\n",
            "3\n",
            "5\n",
            "8\n",
            "13\n",
            "21\n",
            "34\n"
          ]
        }
      ]
    },
    {
      "cell_type": "code",
      "source": [
        "# 22.Write a program to find ones complement of a binary number\n",
        "# a. One's complement of a binary number is defined as value obtained by inverting all binary bits. It is the result of swapping all 1s to 0s and all 0s to 1s.\n",
        "\n",
        "num = input(\"Enter a binary number: \")\n",
        "ones_complement = \"\"\n",
        "\n",
        "for bit in num:\n",
        "  if bit == \"0\":\n",
        "    ones_complement += \"1\"\n",
        "  else:\n",
        "    ones_complement += \"0\"\n",
        "print(f\"One's complement of {num} is {ones_complement}\")"
      ],
      "metadata": {
        "colab": {
          "base_uri": "https://localhost:8080/"
        },
        "id": "YH_8HphEXDab",
        "outputId": "3a5faf5e-98f6-422c-d6b7-ae3475d74417"
      },
      "execution_count": 38,
      "outputs": [
        {
          "output_type": "stream",
          "name": "stdout",
          "text": [
            "Enter a binary number: 10010110\n",
            "One's complement of 10010110 is 01101001\n"
          ]
        }
      ]
    }
  ]
}