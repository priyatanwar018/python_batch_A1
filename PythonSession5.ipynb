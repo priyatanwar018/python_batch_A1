{
  "nbformat": 4,
  "nbformat_minor": 0,
  "metadata": {
    "colab": {
      "provenance": [],
      "authorship_tag": "ABX9TyM6QPZw5lHvf51lMpeMpgSG",
      "include_colab_link": true
    },
    "kernelspec": {
      "name": "python3",
      "display_name": "Python 3"
    },
    "language_info": {
      "name": "python"
    }
  },
  "cells": [
    {
      "cell_type": "markdown",
      "metadata": {
        "id": "view-in-github",
        "colab_type": "text"
      },
      "source": [
        "<a href=\"https://colab.research.google.com/github/priyatanwar018/python_batch_A1/blob/main/PythonSession5.ipynb\" target=\"_parent\"><img src=\"https://colab.research.google.com/assets/colab-badge.svg\" alt=\"Open In Colab\"/></a>"
      ]
    },
    {
      "cell_type": "code",
      "execution_count": null,
      "metadata": {
        "id": "4eCqUsibvbUO"
      },
      "outputs": [],
      "source": [
        "# Strings in Python ===>\n",
        "# Identification = ' ', \" \", '''  '''\n",
        "# Immutable data type ===> We cannot update or change at runtime\n",
        "# Indexing start from 0 and length start form 1"
      ]
    },
    {
      "cell_type": "code",
      "source": [
        "a = \"sam\"\n",
        "print(a)\n",
        "print(type(a))"
      ],
      "metadata": {
        "colab": {
          "base_uri": "https://localhost:8080/"
        },
        "id": "BQsn1RGwjDiT",
        "outputId": "3c1dbdc9-3ebc-48ee-9e3d-3330b617baf6"
      },
      "execution_count": 3,
      "outputs": [
        {
          "output_type": "stream",
          "name": "stdout",
          "text": [
            "sam\n",
            "<class 'str'>\n"
          ]
        }
      ]
    },
    {
      "cell_type": "markdown",
      "source": [
        "# Creating a string"
      ],
      "metadata": {
        "id": "D2qIDyhf-HLW"
      }
    },
    {
      "cell_type": "code",
      "source": [
        "# Single line strings\n",
        "a = 'Hello, World'\n",
        "b = \"Hello, World\"\n",
        "\n",
        "# Multiline strings\n",
        "c ='''This is a\n",
        "multiline string'''\n",
        "\n",
        "print(a)\n",
        "print(b)\n",
        "print(c)"
      ],
      "metadata": {
        "colab": {
          "base_uri": "https://localhost:8080/"
        },
        "id": "-c5xMen4iHdH",
        "outputId": "f783d71a-271c-4f89-b878-a3fda751e793"
      },
      "execution_count": 1,
      "outputs": [
        {
          "output_type": "stream",
          "name": "stdout",
          "text": [
            "Hello, World\n",
            "Hello, World\n",
            "This is a\n",
            "multiline string\n"
          ]
        }
      ]
    },
    {
      "cell_type": "markdown",
      "source": [
        "# Indexing"
      ],
      "metadata": {
        "id": "1JX1qbKV-APh"
      }
    },
    {
      "cell_type": "code",
      "source": [
        "# Accessing the elements\n",
        "\n",
        "a =\"sam\"\n",
        "print(a[0])\n",
        "print(a[1])\n",
        "print(a[2])"
      ],
      "metadata": {
        "colab": {
          "base_uri": "https://localhost:8080/"
        },
        "id": "SiDeGcp1kLEo",
        "outputId": "af4cf1fa-dc85-4edb-f5d1-7c448bf25bab"
      },
      "execution_count": 4,
      "outputs": [
        {
          "output_type": "stream",
          "name": "stdout",
          "text": [
            "s\n",
            "a\n",
            "m\n"
          ]
        }
      ]
    },
    {
      "cell_type": "code",
      "source": [
        "my_string = \"Python\"\n",
        "\n",
        "print(my_string[0])\n",
        "print(my_string[1])\n",
        "print(my_string[-1])\n",
        "print(my_string[-2])"
      ],
      "metadata": {
        "colab": {
          "base_uri": "https://localhost:8080/"
        },
        "id": "nPhrTmW-kjj_",
        "outputId": "05837b0c-b6d2-4d30-d304-d7d1eee95bd8"
      },
      "execution_count": 6,
      "outputs": [
        {
          "output_type": "stream",
          "name": "stdout",
          "text": [
            "P\n",
            "y\n",
            "n\n",
            "o\n"
          ]
        }
      ]
    },
    {
      "cell_type": "markdown",
      "source": [
        "# String Slicing"
      ],
      "metadata": {
        "id": "RQ8JZ9Zy97mT"
      }
    },
    {
      "cell_type": "code",
      "source": [
        "# Slicing allows you to extract a substring from a string. The syntax for slicing is [start:stop:step] where:\n",
        "# start: starting index(inclusive)\n",
        "# stop: ending index(excluded)\n",
        "# step: step value"
      ],
      "metadata": {
        "id": "LC-2HQ-183OW"
      },
      "execution_count": null,
      "outputs": []
    },
    {
      "cell_type": "code",
      "source": [
        "a = 'sam kumar'\n",
        "a[0:5]"
      ],
      "metadata": {
        "colab": {
          "base_uri": "https://localhost:8080/",
          "height": 55
        },
        "id": "rXFLD3dUiiCF",
        "outputId": "e9f2db37-2967-4296-f46a-bcb66bcafa64"
      },
      "execution_count": 8,
      "outputs": [
        {
          "output_type": "execute_result",
          "data": {
            "text/plain": [
              "'sam k'"
            ],
            "application/vnd.google.colaboratory.intrinsic+json": {
              "type": "string"
            }
          },
          "metadata": {},
          "execution_count": 8
        }
      ]
    },
    {
      "cell_type": "code",
      "source": [
        "my_string = \"Pyhton Programming\"\n",
        "print(my_string[0:6])\n",
        "print(my_string[7:])\n",
        "print(my_string[:6])\n",
        "print(my_string[::2])\n",
        "print(my_string[::-1])"
      ],
      "metadata": {
        "colab": {
          "base_uri": "https://localhost:8080/"
        },
        "id": "8HAALa9HlUuO",
        "outputId": "0d136b9c-e54a-44e6-f2e6-5a2263a193b9"
      },
      "execution_count": 9,
      "outputs": [
        {
          "output_type": "stream",
          "name": "stdout",
          "text": [
            "Pyhton\n",
            "Programming\n",
            "Pyhton\n",
            "Pho rgamn\n",
            "gnimmargorP nothyP\n"
          ]
        }
      ]
    },
    {
      "cell_type": "code",
      "source": [
        "# String concatenation and repeatation\n",
        "# You can concatenate (join) strings using the + operator and repeat them using * operator\n",
        "string1 = \"Hello\"\n",
        "string2 = \"World\"\n",
        "\n",
        "concatenated = string1 + \" \" + string2\n",
        "repeated = string1 * 3\n",
        "\n",
        "print(concatenated)\n",
        "print(repeated)\n"
      ],
      "metadata": {
        "colab": {
          "base_uri": "https://localhost:8080/"
        },
        "id": "B2OH7Bl1lwtW",
        "outputId": "0561807c-13fa-41de-98ff-a6398934598e"
      },
      "execution_count": 13,
      "outputs": [
        {
          "output_type": "stream",
          "name": "stdout",
          "text": [
            "Hello World\n",
            "HelloHelloHello\n"
          ]
        }
      ]
    },
    {
      "cell_type": "code",
      "source": [
        "# Checking for substrings\n",
        "# You can check if a substring exists in a string using the in operator\n",
        "\n",
        "my_string = \"Python Programming\"\n",
        "\n",
        "print(\"Python\" in my_string)\n",
        "print(\"Java\" in my_string)"
      ],
      "metadata": {
        "colab": {
          "base_uri": "https://localhost:8080/"
        },
        "id": "CEqV0Yf6mvkK",
        "outputId": "41a9aeb5-86bb-432d-f63d-8f1d61f40107"
      },
      "execution_count": 14,
      "outputs": [
        {
          "output_type": "stream",
          "name": "stdout",
          "text": [
            "True\n",
            "False\n"
          ]
        }
      ]
    },
    {
      "cell_type": "markdown",
      "source": [
        "# String Methods\n"
      ],
      "metadata": {
        "id": "DZ8LtW1ToDEh"
      }
    },
    {
      "cell_type": "code",
      "source": [
        "# Python provides many built-in string methods to manipulate strings\n",
        "# library ===> modules ===>functions\n",
        "# variable.function()"
      ],
      "metadata": {
        "id": "--hs9b63namG"
      },
      "execution_count": 15,
      "outputs": []
    },
    {
      "cell_type": "code",
      "source": [
        "# lower() and upper(): convert the string to lowercase or uppercase\n",
        "text = \"Hello\"\n",
        "print(text.lower())\n",
        "print(text.upper())"
      ],
      "metadata": {
        "colab": {
          "base_uri": "https://localhost:8080/"
        },
        "id": "WpWiMVKnoxlK",
        "outputId": "776b8651-6036-4ee6-db88-fe8373c7639f"
      },
      "execution_count": 16,
      "outputs": [
        {
          "output_type": "stream",
          "name": "stdout",
          "text": [
            "hello\n",
            "HELLO\n"
          ]
        }
      ]
    },
    {
      "cell_type": "code",
      "source": [
        "# strip(): removes whitespace from both ends of a string\n",
        "text = \"  hello World   \"\n",
        "print(text.strip())"
      ],
      "metadata": {
        "colab": {
          "base_uri": "https://localhost:8080/"
        },
        "id": "TYCzD8bKpHuP",
        "outputId": "2a80c4c0-048d-4c2d-e535-ee7564ae2b84"
      },
      "execution_count": 17,
      "outputs": [
        {
          "output_type": "stream",
          "name": "stdout",
          "text": [
            "hello World\n"
          ]
        }
      ]
    },
    {
      "cell_type": "code",
      "source": [
        "text.index(\"h\")"
      ],
      "metadata": {
        "colab": {
          "base_uri": "https://localhost:8080/"
        },
        "id": "pIb-fNTLpV8l",
        "outputId": "37a10e1e-38a8-45e8-9ef3-fd130e77f2bf"
      },
      "execution_count": 21,
      "outputs": [
        {
          "output_type": "execute_result",
          "data": {
            "text/plain": [
              "2"
            ]
          },
          "metadata": {},
          "execution_count": 21
        }
      ]
    },
    {
      "cell_type": "code",
      "source": [
        "# replace(): Replaces a substring with another string\n",
        "text = \"I Love Python\"\n",
        "print(text.replace(\"Python\", \"Coding\"))"
      ],
      "metadata": {
        "colab": {
          "base_uri": "https://localhost:8080/"
        },
        "id": "520JMiKXpt03",
        "outputId": "8a6db787-420b-4cb8-e533-6af17ad7d00a"
      },
      "execution_count": 22,
      "outputs": [
        {
          "output_type": "stream",
          "name": "stdout",
          "text": [
            "I Love Coding\n"
          ]
        }
      ]
    },
    {
      "cell_type": "code",
      "source": [
        "# split(): Spliots a string into a list\n",
        "text = \"apple,banana, cherry\"\n",
        "print(text.split(\",\"))"
      ],
      "metadata": {
        "colab": {
          "base_uri": "https://localhost:8080/"
        },
        "id": "qRFYxN0X09qH",
        "outputId": "11baec60-a9a4-4667-86ca-ab5911a1b741"
      },
      "execution_count": 23,
      "outputs": [
        {
          "output_type": "stream",
          "name": "stdout",
          "text": [
            "['apple', 'banana', ' cherry']\n"
          ]
        }
      ]
    },
    {
      "cell_type": "code",
      "source": [
        "# .join(): Joins elements of a list into a single string\n",
        "fruits = ['apple', 'banana','cherry']\n",
        "print(\",\".join(fruits))"
      ],
      "metadata": {
        "colab": {
          "base_uri": "https://localhost:8080/"
        },
        "id": "nL0BvcFW2Iqx",
        "outputId": "b506c828-9d0b-4990-9cb3-3e7a61264310"
      },
      "execution_count": 24,
      "outputs": [
        {
          "output_type": "stream",
          "name": "stdout",
          "text": [
            "apple,banana,cherry\n"
          ]
        }
      ]
    },
    {
      "cell_type": "markdown",
      "source": [
        "# String Formatting"
      ],
      "metadata": {
        "id": "UpPEc4jU28h5"
      }
    },
    {
      "cell_type": "code",
      "source": [
        "# using f strings\n",
        "\n",
        "name = \"sam\"\n",
        "age = 25\n",
        "print(f\"My name is {name} and I am {age} years old\")"
      ],
      "metadata": {
        "colab": {
          "base_uri": "https://localhost:8080/"
        },
        "id": "GRPK2aE12m1W",
        "outputId": "6544746f-8307-42d3-be1e-d52955bb54a7"
      },
      "execution_count": 28,
      "outputs": [
        {
          "output_type": "stream",
          "name": "stdout",
          "text": [
            "My name is sam and I am 25 years old\n"
          ]
        }
      ]
    },
    {
      "cell_type": "code",
      "source": [
        "name = input(\"Enter your name: \")\n",
        "age = int(input(\"Enter your age: \"))\n",
        "print(\"My name is {} and I am {} years old\" .format(name,age))"
      ],
      "metadata": {
        "colab": {
          "base_uri": "https://localhost:8080/"
        },
        "id": "ZU4iezUl5b_p",
        "outputId": "a89de018-a21a-4dc8-84be-8cfe66930deb"
      },
      "execution_count": 32,
      "outputs": [
        {
          "output_type": "stream",
          "name": "stdout",
          "text": [
            "Enter your name: Raj\n",
            "Enter your age: 25\n",
            "My name is Raj and I am 25 years old\n"
          ]
        }
      ]
    },
    {
      "cell_type": "markdown",
      "source": [
        "# Escaping special characters"
      ],
      "metadata": {
        "id": "AX3ENoqY6Wo9"
      }
    },
    {
      "cell_type": "code",
      "source": [
        "# If you need to include special characters like quotes inside a string, use the backslash(\\)"
      ],
      "metadata": {
        "id": "jSZJ-pjk5q8-"
      },
      "execution_count": null,
      "outputs": []
    },
    {
      "cell_type": "code",
      "source": [
        "quote = 'She said, \"Hello!\" '\n",
        "escaped_quote = \"She said, \\\"Hello!\\\"\"\n",
        "print(quote)\n",
        "print(escaped_quote)"
      ],
      "metadata": {
        "colab": {
          "base_uri": "https://localhost:8080/"
        },
        "id": "2mvE7n0a6m2h",
        "outputId": "9ece5bd8-81c9-4a21-a9a3-f1092b35f032"
      },
      "execution_count": 36,
      "outputs": [
        {
          "output_type": "stream",
          "name": "stdout",
          "text": [
            "She said, \"Hello!\" \n",
            "She said, \"Hello!\"\n"
          ]
        }
      ]
    },
    {
      "cell_type": "markdown",
      "source": [
        "# Multiline strings with triple quotes"
      ],
      "metadata": {
        "id": "nGaRI_Hf7PtB"
      }
    },
    {
      "cell_type": "code",
      "source": [
        "# commnets ===>\n",
        "# inline ===> single statement\n",
        "# multiline ===> comment spread across multiple lines\n",
        "# docstring ===> '''comments inside triple quotes''"
      ],
      "metadata": {
        "id": "pJ_ty6Gc62YX"
      },
      "execution_count": null,
      "outputs": []
    },
    {
      "cell_type": "code",
      "source": [
        "# You can use triple quotes for multiline strings\n",
        "\n",
        "multi_line = '''This is a string\n",
        "that spans across multiple lines'''\n",
        "print(multi_line)"
      ],
      "metadata": {
        "colab": {
          "base_uri": "https://localhost:8080/"
        },
        "id": "OIOTLlbI75XY",
        "outputId": "17333bad-a9c5-46fa-c9bc-b1f4ab42aa0e"
      },
      "execution_count": 38,
      "outputs": [
        {
          "output_type": "stream",
          "name": "stdout",
          "text": [
            "This is a string\n",
            "that spans across multiple lines\n"
          ]
        }
      ]
    },
    {
      "cell_type": "markdown",
      "source": [
        "# String Length"
      ],
      "metadata": {
        "id": "5vpeMFMy8cwQ"
      }
    },
    {
      "cell_type": "code",
      "source": [
        "# To get the length of a string, use the len() function\n",
        "\n",
        "my_string = \"Python\"\n",
        "len(my_string)"
      ],
      "metadata": {
        "colab": {
          "base_uri": "https://localhost:8080/"
        },
        "id": "9hhtmmVB8Y1l",
        "outputId": "3bd25ddb-a862-45c8-b5d8-3368be21e67a"
      },
      "execution_count": 39,
      "outputs": [
        {
          "output_type": "execute_result",
          "data": {
            "text/plain": [
              "6"
            ]
          },
          "metadata": {},
          "execution_count": 39
        }
      ]
    },
    {
      "cell_type": "code",
      "source": [
        "# capitalize(): capitalize the first letter of the string\n",
        "text = \"hello\"\n",
        "text.capitalize()"
      ],
      "metadata": {
        "colab": {
          "base_uri": "https://localhost:8080/",
          "height": 55
        },
        "id": "cF28G7sYJ_Bi",
        "outputId": "409da2a7-8278-414a-b441-e8e349d21a14"
      },
      "execution_count": 40,
      "outputs": [
        {
          "output_type": "execute_result",
          "data": {
            "text/plain": [
              "'Hello'"
            ],
            "application/vnd.google.colaboratory.intrinsic+json": {
              "type": "string"
            }
          },
          "metadata": {},
          "execution_count": 40
        }
      ]
    },
    {
      "cell_type": "code",
      "source": [
        "# isalnum(): Checks for alphannumeric characters in a value\n",
        "text = \"hello123\"\n",
        "text.isalnum()"
      ],
      "metadata": {
        "colab": {
          "base_uri": "https://localhost:8080/"
        },
        "id": "YDc5i7F6KZvv",
        "outputId": "d42d898d-32d1-430b-e1ba-6f16423fa08a"
      },
      "execution_count": 42,
      "outputs": [
        {
          "output_type": "execute_result",
          "data": {
            "text/plain": [
              "True"
            ]
          },
          "metadata": {},
          "execution_count": 42
        }
      ]
    },
    {
      "cell_type": "code",
      "source": [
        "# is digit(): checks for digits in a value\n",
        "text = \"123\"\n",
        "text.isdigit()"
      ],
      "metadata": {
        "colab": {
          "base_uri": "https://localhost:8080/"
        },
        "id": "dcJXBju_KgiQ",
        "outputId": "503080db-49d2-44e2-925e-c7eebb08194e"
      },
      "execution_count": 44,
      "outputs": [
        {
          "output_type": "execute_result",
          "data": {
            "text/plain": [
              "True"
            ]
          },
          "metadata": {},
          "execution_count": 44
        }
      ]
    },
    {
      "cell_type": "code",
      "source": [
        "# Ques 1 Given a string s = \"hello\", how would you reverse it using slicing?\n",
        "\n",
        "s = 'hello'\n",
        "reversed = s[::-1]\n",
        "print(reversed)"
      ],
      "metadata": {
        "colab": {
          "base_uri": "https://localhost:8080/"
        },
        "id": "uTWdu_SNLI9O",
        "outputId": "a1a50c2a-ada6-4867-e7ed-4d50303a956e"
      },
      "execution_count": 45,
      "outputs": [
        {
          "output_type": "stream",
          "name": "stdout",
          "text": [
            "olleh\n"
          ]
        }
      ]
    },
    {
      "cell_type": "code",
      "source": [
        "# Ques 2 Given the string s = \"programming\", how would you extract the substring \"gram\"?\n",
        "\n",
        "s = \"programming\"\n",
        "substring = s[3:7]\n",
        "print(substring)"
      ],
      "metadata": {
        "colab": {
          "base_uri": "https://localhost:8080/"
        },
        "id": "yV3BwrdDMPJ3",
        "outputId": "e5a030fa-0996-4919-de3d-3521f89aa94f"
      },
      "execution_count": 46,
      "outputs": [
        {
          "output_type": "stream",
          "name": "stdout",
          "text": [
            "gram\n"
          ]
        }
      ]
    },
    {
      "cell_type": "code",
      "source": [
        "# Ques 3 How would you count how many times the letter 'a' appears in the string s = \"banana\"?\n",
        "\n",
        "s = \"banana\"\n",
        "count = s.count('a')\n",
        "print(count)"
      ],
      "metadata": {
        "colab": {
          "base_uri": "https://localhost:8080/"
        },
        "id": "zQ1eZdatMisV",
        "outputId": "94c727ca-fbdb-44f4-bef4-628458b16049"
      },
      "execution_count": 47,
      "outputs": [
        {
          "output_type": "stream",
          "name": "stdout",
          "text": [
            "3\n"
          ]
        }
      ]
    },
    {
      "cell_type": "code",
      "source": [
        "# Ques 4 Convert the string s = \"hello world\" to all uppercase letters.\n",
        "\n",
        "s = \"hello world\"\n",
        "s.upper()"
      ],
      "metadata": {
        "colab": {
          "base_uri": "https://localhost:8080/",
          "height": 55
        },
        "id": "OzHqpZJCM4ef",
        "outputId": "1dd9b63a-3b5a-4338-d726-2291ec189710"
      },
      "execution_count": 49,
      "outputs": [
        {
          "output_type": "execute_result",
          "data": {
            "text/plain": [
              "'HELLO WORLD'"
            ],
            "application/vnd.google.colaboratory.intrinsic+json": {
              "type": "string"
            }
          },
          "metadata": {},
          "execution_count": 49
        }
      ]
    },
    {
      "cell_type": "code",
      "source": [
        "# Ques 5 Check whether the string s = \"hello world\" starts with \"hello\".\n",
        "\n",
        "s = \"hello world\"\n",
        "s.startswith(\"hello\")"
      ],
      "metadata": {
        "colab": {
          "base_uri": "https://localhost:8080/"
        },
        "id": "ERn2auhQNJfz",
        "outputId": "4f72a7b6-bbab-4eca-eae7-5e21b84538fa"
      },
      "execution_count": 50,
      "outputs": [
        {
          "output_type": "execute_result",
          "data": {
            "text/plain": [
              "True"
            ]
          },
          "metadata": {},
          "execution_count": 50
        }
      ]
    },
    {
      "cell_type": "code",
      "source": [
        "# Ques 6 How would find the first occurrence of the letter 'o' in the string s = \"hello world\"?\n",
        "\n",
        "s = \"hello world\"\n",
        "s.find(\"o\")"
      ],
      "metadata": {
        "colab": {
          "base_uri": "https://localhost:8080/"
        },
        "id": "qMSeu9YTNikI",
        "outputId": "b6b52825-7021-409e-c87c-21b635ede6a5"
      },
      "execution_count": 51,
      "outputs": [
        {
          "output_type": "execute_result",
          "data": {
            "text/plain": [
              "4"
            ]
          },
          "metadata": {},
          "execution_count": 51
        }
      ]
    },
    {
      "cell_type": "code",
      "source": [
        "# Ques 7 Split the string s = \"apple,banana,cherry\" into a list of individual fruits.\n",
        "s = \"apple,banana,cherry\"\n",
        "fruits = s.split(\",\")\n",
        "print(fruits)"
      ],
      "metadata": {
        "colab": {
          "base_uri": "https://localhost:8080/"
        },
        "id": "bmtCIkACNy1z",
        "outputId": "ba0b7cda-0f3a-43b8-a7ab-9261a5a43b18"
      },
      "execution_count": 52,
      "outputs": [
        {
          "output_type": "stream",
          "name": "stdout",
          "text": [
            "['apple', 'banana', 'cherry']\n"
          ]
        }
      ]
    },
    {
      "cell_type": "code",
      "source": [
        "# Ques 8 Given the string s = \"abc123\", how would you check if the contains only letters and numbers?\n",
        "\n",
        "s = \"abc123\"\n",
        "s.isalnum()"
      ],
      "metadata": {
        "colab": {
          "base_uri": "https://localhost:8080/"
        },
        "id": "lMcmemsyOLFw",
        "outputId": "f4f58c73-cf11-49db-dea0-3d22a7cacd63"
      },
      "execution_count": 53,
      "outputs": [
        {
          "output_type": "execute_result",
          "data": {
            "text/plain": [
              "True"
            ]
          },
          "metadata": {},
          "execution_count": 53
        }
      ]
    },
    {
      "cell_type": "code",
      "source": [
        "# Ques 9 How would remove all the leading and trailing whitespaces from the string s = \"   hello   \"?\n",
        "\n",
        "s = \"  hello  \"\n",
        "s.strip()"
      ],
      "metadata": {
        "colab": {
          "base_uri": "https://localhost:8080/",
          "height": 55
        },
        "id": "kv20dH0bOa0u",
        "outputId": "a526a87f-bffe-481b-e127-6c824983f51b"
      },
      "execution_count": 54,
      "outputs": [
        {
          "output_type": "execute_result",
          "data": {
            "text/plain": [
              "'hello'"
            ],
            "application/vnd.google.colaboratory.intrinsic+json": {
              "type": "string"
            }
          },
          "metadata": {},
          "execution_count": 54
        }
      ]
    },
    {
      "cell_type": "code",
      "source": [
        "# Ques 10 Join the list [\"Python\",\"is\",\"fun\"] into a single string with spaces separating the words.\n",
        "\n",
        "my_list = [\"Python\",\"is\",\"fun\"]\n",
        "joined_string = \" \".join(my_list)\n",
        "print(joined_string)"
      ],
      "metadata": {
        "colab": {
          "base_uri": "https://localhost:8080/"
        },
        "id": "qPd5LsTTO2eR",
        "outputId": "8e26811c-8cb9-489d-c57f-32652761a1ca"
      },
      "execution_count": 55,
      "outputs": [
        {
          "output_type": "stream",
          "name": "stdout",
          "text": [
            "Python is fun\n"
          ]
        }
      ]
    },
    {
      "cell_type": "code",
      "source": [],
      "metadata": {
        "id": "M24yffNGPWb1"
      },
      "execution_count": null,
      "outputs": []
    }
  ]
}