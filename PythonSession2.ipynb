{
  "nbformat": 4,
  "nbformat_minor": 0,
  "metadata": {
    "colab": {
      "provenance": [],
      "include_colab_link": true
    },
    "kernelspec": {
      "name": "python3",
      "display_name": "Python 3"
    },
    "language_info": {
      "name": "python"
    }
  },
  "cells": [
    {
      "cell_type": "markdown",
      "metadata": {
        "id": "view-in-github",
        "colab_type": "text"
      },
      "source": [
        "<a href=\"https://colab.research.google.com/github/priyatanwar018/python_batch_A1/blob/main/PythonSession2.ipynb\" target=\"_parent\"><img src=\"https://colab.research.google.com/assets/colab-badge.svg\" alt=\"Open In Colab\"/></a>"
      ]
    },
    {
      "cell_type": "code",
      "execution_count": null,
      "metadata": {
        "id": "TiFV475ADH81"
      },
      "outputs": [],
      "source": [
        "# Operators in Python\n",
        "# (1). Addition(+) ===> 5+2 = 7\n",
        "# (2). Subtraction(-) ===> 4-2 = 2\n",
        "# (3). Multiplication(*) ===> 3*7 = 21\n",
        "# (4). Division(/) ===> 5/2 = 2.5\n",
        "# (5). Floor Division(//) ===> Truncates the decimal part from quotient ===> 5//2 ==> 2\n",
        "# (6). Module(%) ===> For Remainder Calculation ===> 25%10 = 5(Remainder)\n",
        "# (7). Greater than (>) ====> 5>2\n",
        "# (8). Less than (<) ===> 3<8\n",
        "# (9). Equal to (=) ===> for values Assignment ===> a = 5 , b = 'sam'\n",
        "# (10).Equal Equal to(==) ==> For values comparison ===> 'a'=='b' , 4==5\n",
        "# (11). Not Equal to(!=) ===> 4!=5\n",
        "# (12). Greter than or Equal to(>=) ===> 5>=4  , 4>=4\n",
        "# (13). Less than or Equal to(<=) ===> 4<=4 , 5<=7"
      ]
    },
    {
      "cell_type": "code",
      "source": [
        "5//2"
      ],
      "metadata": {
        "colab": {
          "base_uri": "https://localhost:8080/"
        },
        "id": "koNwuR7uDzua",
        "outputId": "69297d3c-4709-4d26-e6d9-62e023b040ed"
      },
      "execution_count": null,
      "outputs": [
        {
          "output_type": "execute_result",
          "data": {
            "text/plain": [
              "2"
            ]
          },
          "metadata": {},
          "execution_count": 2
        }
      ]
    },
    {
      "cell_type": "code",
      "source": [
        "# Conditional Selection in Python\n",
        "# if\n",
        "# elif\n",
        "# else"
      ],
      "metadata": {
        "id": "3svh6SmJD0Rn"
      },
      "execution_count": null,
      "outputs": []
    },
    {
      "cell_type": "code",
      "source": [
        "a = input(\"Enter your name:\")\n",
        "if(a == \"sam\"):\n",
        "  print(\"yes\")\n",
        "elif(a == \"Rahul\"):\n",
        "  print(\"No\")\n",
        "elif(a ==\"Jay\"):\n",
        "  print(\"ok\")\n",
        "else:\n",
        "  print(\"Try Again...\")"
      ],
      "metadata": {
        "colab": {
          "base_uri": "https://localhost:8080/"
        },
        "id": "HuCMRuofGdD4",
        "outputId": "c116d434-a14f-4238-b20a-106ddd16fbd8"
      },
      "execution_count": null,
      "outputs": [
        {
          "output_type": "stream",
          "name": "stdout",
          "text": [
            "Enter your name:sam\n",
            "yes\n"
          ]
        }
      ]
    },
    {
      "cell_type": "code",
      "source": [
        "a = int(input(\"Enter your age:\"))\n",
        "if(0<=a<=20):\n",
        "  print(\"child\")\n",
        "elif(21<=a<=50):\n",
        "  print(\"young\")\n",
        "elif(51<=a<=90):\n",
        "  print(\"old\")\n",
        "else:\n",
        "  print(\"Enter your valid age.....\")\n",
        "#### user ==> course ===> select ===> python ==> fees , duration , java ===> fees , duration  ===> others ===> please select a valid course"
      ],
      "metadata": {
        "colab": {
          "base_uri": "https://localhost:8080/"
        },
        "id": "_n47QjTjHMRH",
        "outputId": "03aa7b26-efa1-49cd-9e09-419de4f18562"
      },
      "execution_count": null,
      "outputs": [
        {
          "output_type": "stream",
          "name": "stdout",
          "text": [
            "Enter your age:200\n",
            "Enter your valid age.....\n"
          ]
        }
      ]
    },
    {
      "cell_type": "code",
      "source": [
        "subject = input(\"Enter your subject: \")\n",
        "if (subject == \"Python\"):\n",
        "  print(\"Fees: Rs 20000\")\n",
        "  print(\"Duration: 6 Months\")\n",
        "elif (subject == \"Java\"):\n",
        "  print(\"Fees: Rs 15000\")\n",
        "  print(\"Duration: 4 Months\")\n",
        "else:\n",
        "        print(\"Please select a valid course\")"
      ],
      "metadata": {
        "colab": {
          "base_uri": "https://localhost:8080/"
        },
        "id": "ivodwgnvMqj7",
        "outputId": "cb487fde-cbae-44c5-bdd4-8351035f5e0d"
      },
      "execution_count": 11,
      "outputs": [
        {
          "output_type": "stream",
          "name": "stdout",
          "text": [
            "Enter your subject: Python\n",
            "Fees: Rs 20000\n",
            "Duration: 6 Months\n"
          ]
        }
      ]
    },
    {
      "cell_type": "code",
      "source": [
        "# Loop in Python\n",
        "\n",
        "# Index = 0 , Length = 1"
      ],
      "metadata": {
        "id": "3uAVy-AjH32z"
      },
      "execution_count": null,
      "outputs": []
    },
    {
      "cell_type": "code",
      "source": [
        "# (1). For loop ==> starting_value included and last_value excluded.\n",
        "# syntax : for i in range(start_value , last_value , step_value):print(i)\n",
        "# method - 1\n",
        "for i in range(0,9,3):\n",
        "  print(i)"
      ],
      "metadata": {
        "colab": {
          "base_uri": "https://localhost:8080/"
        },
        "id": "1hjA9_QTL-ui",
        "outputId": "1d38448d-e4af-4a0c-a30a-d1040f803d22"
      },
      "execution_count": null,
      "outputs": [
        {
          "output_type": "stream",
          "name": "stdout",
          "text": [
            "0\n",
            "3\n",
            "6\n"
          ]
        }
      ]
    },
    {
      "cell_type": "code",
      "source": [
        "# method - 2\n",
        "a = \"sam\"\n",
        "for b in a :\n",
        "  print(b)"
      ],
      "metadata": {
        "colab": {
          "base_uri": "https://localhost:8080/"
        },
        "id": "Kq6VP-CpMUy3",
        "outputId": "2d9c5cf6-d993-426a-f509-21938ba6e6bb"
      },
      "execution_count": null,
      "outputs": [
        {
          "output_type": "stream",
          "name": "stdout",
          "text": [
            "s\n",
            "a\n",
            "m\n"
          ]
        }
      ]
    },
    {
      "cell_type": "code",
      "source": [
        "# method - 2\n",
        "a = \"sam\"\n",
        "for i in a :\n",
        "  print(i , end = \" \")"
      ],
      "metadata": {
        "colab": {
          "base_uri": "https://localhost:8080/"
        },
        "id": "DjtqoMsiMua2",
        "outputId": "28c1d615-fd47-463b-a689-82cdc5a9e148"
      },
      "execution_count": null,
      "outputs": [
        {
          "output_type": "stream",
          "name": "stdout",
          "text": [
            "s a m "
          ]
        }
      ]
    },
    {
      "cell_type": "code",
      "source": [
        "# (2). while loop\n",
        "\n",
        "# (a). Initialization\n",
        "# (b). Condition\n",
        "# (c). Increment or Decrement\n",
        "\n",
        "# syntax:\n",
        "# while(condition):\n",
        "  # condition"
      ],
      "metadata": {
        "id": "NCO_ufZ4MzDX"
      },
      "execution_count": null,
      "outputs": []
    },
    {
      "cell_type": "code",
      "source": [
        "# Q.1 Write a program to print numbers from first number to last number given by the user.\n",
        "i = int(input(\"Enter first  number:\"))  ### Initialization\n",
        "n = int(input(\"Enter last number:\"))\n",
        "p = int(input(\"Enter step number:\"))\n",
        "\n",
        "while(i<=n):   ### Condition\n",
        "  print(i)\n",
        "  i = i + p    ### Increment"
      ],
      "metadata": {
        "colab": {
          "base_uri": "https://localhost:8080/"
        },
        "id": "61ZpYD9LPBM1",
        "outputId": "37b418af-5d5c-4dc9-afe7-d067041a2d19"
      },
      "execution_count": null,
      "outputs": [
        {
          "output_type": "stream",
          "name": "stdout",
          "text": [
            "Enter first  number:1\n",
            "Enter last number:20\n",
            "Enter step number:6\n",
            "1\n",
            "7\n",
            "13\n",
            "19\n"
          ]
        }
      ]
    },
    {
      "cell_type": "code",
      "source": [
        "# step-1 (i=1 , n = 3)\n",
        "while(1<=3):\n",
        "  print(1)\n",
        "# i = 1+1 = 2\n",
        "# step-2 (i = 2 ,n = 3)\n",
        "while(2<=3):\n",
        "  print(2)\n",
        "  # i= 2 + 1 = 3\n",
        "# step-3 (i = 3 , n = 3)\n",
        "while(3<=3):\n",
        "  print(3)\n",
        "  # i = 3 + 1 = 4\n",
        "# step-4 (i = 4 , n = 3)\n",
        "while(4<=3):\n",
        "  break\n",
        "# Final Output ===> 1,2,3"
      ],
      "metadata": {
        "id": "jqx7sPdAPFW0"
      },
      "execution_count": null,
      "outputs": []
    },
    {
      "cell_type": "code",
      "source": [
        "# Q.2 Write a program to can add given numbers.\n",
        "# i  =1\n",
        "# n = 3\n",
        "# output ===> 1+2+3 = 6\n",
        "\n",
        "# Q.3 Write a program to add numbers.\n",
        "# i = 1234\n",
        "# output ===> 1+2+3+4 = 10\n",
        "\n",
        "# Q.4 Write a program which can add even numbers and odd numbers separately.\n",
        "# i = 1234\n",
        "# output ===>\n",
        "# even = 2+4 = 6\n",
        "# odd = 1+3 = 4"
      ],
      "metadata": {
        "id": "xIgAaw63RnZ4"
      },
      "execution_count": null,
      "outputs": []
    },
    {
      "cell_type": "code",
      "source": [
        "# Q.2\n",
        "num1 = int(input(\"Enter first number: \"))\n",
        "num2 = int(input(\"Enter last number: \"))\n",
        "sum = 0\n",
        "if (num1>num2):\n",
        "  for i in range(num2, num1+1):\n",
        "    sum += i\n",
        "  print(sum)\n",
        "else:\n",
        "  for i in range(num1, num2+1):\n",
        "    sum += i\n",
        "  print(sum)"
      ],
      "metadata": {
        "colab": {
          "base_uri": "https://localhost:8080/"
        },
        "id": "SJaa-623Qr5z",
        "outputId": "59df245f-d490-48ff-8535-93fe0e077bd4"
      },
      "execution_count": 12,
      "outputs": [
        {
          "output_type": "stream",
          "name": "stdout",
          "text": [
            "Enter first number: 1\n",
            "Enter last number: 3\n",
            "6\n"
          ]
        }
      ]
    },
    {
      "cell_type": "code",
      "source": [
        "# Q.3\n",
        "i = 1234\n",
        "sum = 0\n",
        "while(i>0):\n",
        "  rem = i % 10\n",
        "  sum += rem\n",
        "  i //= 10\n",
        "print(sum)"
      ],
      "metadata": {
        "colab": {
          "base_uri": "https://localhost:8080/"
        },
        "id": "j3lqopX8SEY-",
        "outputId": "e2989aa3-9739-4027-bfb4-596b395f54ca"
      },
      "execution_count": 13,
      "outputs": [
        {
          "output_type": "stream",
          "name": "stdout",
          "text": [
            "10\n"
          ]
        }
      ]
    },
    {
      "cell_type": "code",
      "source": [
        "# Q. 4\n",
        "i = 1234\n",
        "even_sum = 0\n",
        "odd_sum = 0\n",
        "while(i>0):\n",
        "  rem = i % 10\n",
        "  if (rem%2==0):\n",
        "    even_sum += rem\n",
        "  else:\n",
        "    odd_sum += rem\n",
        "  i //= 10\n",
        "print(f\"Even Sum: {even_sum}\")\n",
        "print(f\"Odd Sum: {odd_sum}\")"
      ],
      "metadata": {
        "colab": {
          "base_uri": "https://localhost:8080/"
        },
        "id": "AEOev0PVSqD9",
        "outputId": "ffdc0ccb-2b9d-454b-b182-808338dab190"
      },
      "execution_count": 2,
      "outputs": [
        {
          "output_type": "stream",
          "name": "stdout",
          "text": [
            "Even Sum: 6\n",
            "Odd Sum: 4\n"
          ]
        }
      ]
    },
    {
      "cell_type": "code",
      "source": [],
      "metadata": {
        "id": "WBI3vRimqcSt"
      },
      "execution_count": null,
      "outputs": []
    }
  ]
}