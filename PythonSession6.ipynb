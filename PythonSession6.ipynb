{
  "cells": [
    {
      "cell_type": "markdown",
      "metadata": {
        "id": "view-in-github",
        "colab_type": "text"
      },
      "source": [
        "<a href=\"https://colab.research.google.com/github/priyatanwar018/python_batch_A1/blob/main/PythonSession6.ipynb\" target=\"_parent\"><img src=\"https://colab.research.google.com/assets/colab-badge.svg\" alt=\"Open In Colab\"/></a>"
      ]
    },
    {
      "cell_type": "code",
      "execution_count": null,
      "id": "04946916",
      "metadata": {
        "id": "04946916"
      },
      "outputs": [],
      "source": [
        "# List ===>\n",
        "# (1). This is a container in which we can store elements .\n",
        "# (2). Mutable data type ===> we can change or update our values at a run time .\n",
        "# (3). Indexing start from 0 and length start from 1 .\n",
        "# (4). Identification = []"
      ]
    },
    {
      "cell_type": "code",
      "execution_count": null,
      "id": "8e115765",
      "metadata": {
        "id": "8e115765",
        "outputId": "d6b00795-7d27-431a-fd74-57b15920051d"
      },
      "outputs": [
        {
          "data": {
            "text/plain": [
              "list"
            ]
          },
          "execution_count": 2,
          "metadata": {},
          "output_type": "execute_result"
        }
      ],
      "source": [
        "a = ['sam' , 67 , 'Raj' , 89.33]\n",
        "type(a)"
      ]
    },
    {
      "cell_type": "code",
      "execution_count": null,
      "id": "cc231396",
      "metadata": {
        "id": "cc231396",
        "outputId": "7b8bcfec-d4c0-4e76-c218-5837982806fa"
      },
      "outputs": [
        {
          "name": "stdout",
          "output_type": "stream",
          "text": [
            "sam\n",
            "67\n",
            "Raj\n",
            "89.33\n"
          ]
        }
      ],
      "source": [
        "print(a[0])\n",
        "print(a[1])\n",
        "print(a[2])\n",
        "print(a[3])"
      ]
    },
    {
      "cell_type": "code",
      "execution_count": null,
      "id": "c4c8aca7",
      "metadata": {
        "id": "c4c8aca7",
        "outputId": "ac96ad50-f8f3-49ed-f7e6-1ee00abb9a6a"
      },
      "outputs": [
        {
          "name": "stdout",
          "output_type": "stream",
          "text": [
            "[67, 'Raj']\n",
            "[67, 'Raj', 89.33]\n",
            "['sam', 67, 'Raj']\n",
            "['sam', 67, 'Raj', 89.33]\n"
          ]
        }
      ],
      "source": [
        "# slicing in list\n",
        "a = ['sam' , 67 , 'Raj' , 89.33]\n",
        "print(a[1:3])\n",
        "print(a[1:])\n",
        "print(a[:-1])\n",
        "print(a[:])"
      ]
    },
    {
      "cell_type": "code",
      "execution_count": null,
      "id": "e6d43bf7",
      "metadata": {
        "id": "e6d43bf7",
        "outputId": "d31940a0-9b15-4865-fe57-77865602efae"
      },
      "outputs": [
        {
          "name": "stdout",
          "output_type": "stream",
          "text": [
            "['sam', 67, 'Raj', 89.33]\n",
            "['sam', 50, 'Raj', 89.33]\n"
          ]
        }
      ],
      "source": [
        "a = ['sam' , 67 , 'Raj' , 89.33]\n",
        "print(a)\n",
        "a[1] = 50\n",
        "print(a)"
      ]
    },
    {
      "cell_type": "code",
      "execution_count": null,
      "id": "0cb762fd",
      "metadata": {
        "id": "0cb762fd",
        "outputId": "41b1dbc6-e424-42cf-cbec-03199e1164ce"
      },
      "outputs": [
        {
          "name": "stdout",
          "output_type": "stream",
          "text": [
            "sam\n",
            "67\n",
            "Raj\n",
            "89.33\n"
          ]
        }
      ],
      "source": [
        "# loop in list\n",
        "a = ['sam' , 67 , 'Raj' , 89.33]\n",
        "for i in range(len(a)):\n",
        "    print(a[i])"
      ]
    },
    {
      "cell_type": "code",
      "execution_count": null,
      "id": "70492bd8",
      "metadata": {
        "id": "70492bd8",
        "outputId": "9f324725-5110-42cc-e168-d9d40cde1c54"
      },
      "outputs": [
        {
          "name": "stdout",
          "output_type": "stream",
          "text": [
            "sam, 67, Raj, 89.33, "
          ]
        }
      ],
      "source": [
        "a = ['sam' , 67 , 'Raj' , 89.33]\n",
        "for i in range(len(a)):\n",
        "    print(a[i] , end = \", \")"
      ]
    },
    {
      "cell_type": "code",
      "execution_count": null,
      "id": "9ccaca44",
      "metadata": {
        "id": "9ccaca44",
        "outputId": "1d422a2c-3623-4fb6-95ea-112d2aafdf9b"
      },
      "outputs": [
        {
          "data": {
            "text/plain": [
              "1"
            ]
          },
          "execution_count": 8,
          "metadata": {},
          "output_type": "execute_result"
        }
      ],
      "source": [
        "a = ['sam' , 67 , 'Raj' , 89.33]\n",
        "a.index(67)      # it will return index of the item"
      ]
    },
    {
      "cell_type": "code",
      "execution_count": null,
      "id": "ffa76207",
      "metadata": {
        "id": "ffa76207",
        "outputId": "db13d1ef-0412-4c8a-cce2-814c33392c65"
      },
      "outputs": [
        {
          "data": {
            "text/plain": [
              "['sam', 67, 'Raj', 89.33, 'Raju']"
            ]
          },
          "execution_count": 9,
          "metadata": {},
          "output_type": "execute_result"
        }
      ],
      "source": [
        "a.append('Raju')    # it will add element at the last index of the list\n",
        "a"
      ]
    },
    {
      "cell_type": "code",
      "execution_count": null,
      "id": "05057477",
      "metadata": {
        "id": "05057477",
        "outputId": "6e7d60de-9751-4605-980c-a531a6ff0596"
      },
      "outputs": [
        {
          "data": {
            "text/plain": [
              "['sam', 'Preeti', 67, 'Raj', 89.33, 'Raju']"
            ]
          },
          "execution_count": 10,
          "metadata": {},
          "output_type": "execute_result"
        }
      ],
      "source": [
        "a.insert(1 , \"Preeti\")      # it will add element according to our index value\n",
        "a"
      ]
    },
    {
      "cell_type": "code",
      "execution_count": null,
      "id": "fb75b1de",
      "metadata": {
        "id": "fb75b1de",
        "outputId": "e2e3091a-548c-4fce-d2c9-9120403b2397"
      },
      "outputs": [
        {
          "data": {
            "text/plain": [
              "['sam', 'Preeti', 67, 'Raj', 89.33]"
            ]
          },
          "execution_count": 11,
          "metadata": {},
          "output_type": "execute_result"
        }
      ],
      "source": [
        "a.pop()    # it will remove last index element .\n",
        "a"
      ]
    },
    {
      "cell_type": "code",
      "execution_count": null,
      "id": "18c85e62",
      "metadata": {
        "id": "18c85e62",
        "outputId": "7c8b0b15-d50a-4638-9eec-6862593e9a20"
      },
      "outputs": [
        {
          "data": {
            "text/plain": [
              "['sam', 'Preeti', 67, 'Raj']"
            ]
          },
          "execution_count": 12,
          "metadata": {},
          "output_type": "execute_result"
        }
      ],
      "source": [
        "a.pop()\n",
        "a"
      ]
    },
    {
      "cell_type": "code",
      "execution_count": null,
      "id": "8cb6a6a9",
      "metadata": {
        "id": "8cb6a6a9",
        "outputId": "9d4a2777-a3b6-4ae4-ac02-c62189d69c27"
      },
      "outputs": [
        {
          "data": {
            "text/plain": [
              "['sam', 67, 'Raj']"
            ]
          },
          "execution_count": 13,
          "metadata": {},
          "output_type": "execute_result"
        }
      ],
      "source": [
        "a.remove('Preeti')     # it will remove object in the list .\n",
        "a"
      ]
    },
    {
      "cell_type": "code",
      "execution_count": null,
      "id": "3b923ce6",
      "metadata": {
        "id": "3b923ce6",
        "outputId": "25b6feec-cacb-4641-d354-065225f2478f"
      },
      "outputs": [
        {
          "data": {
            "text/plain": [
              "4"
            ]
          },
          "execution_count": 14,
          "metadata": {},
          "output_type": "execute_result"
        }
      ],
      "source": [
        "a = [1,2,3,4]\n",
        "max(a)      # it will return maximum value in a list"
      ]
    },
    {
      "cell_type": "code",
      "execution_count": null,
      "id": "8e498d29",
      "metadata": {
        "id": "8e498d29",
        "outputId": "696ccb2f-a028-44bd-e1b0-c11b29579a0c"
      },
      "outputs": [
        {
          "data": {
            "text/plain": [
              "1"
            ]
          },
          "execution_count": 15,
          "metadata": {},
          "output_type": "execute_result"
        }
      ],
      "source": [
        "min(a)   # it will return minimum value in a list ."
      ]
    },
    {
      "cell_type": "code",
      "execution_count": null,
      "id": "a59b2093",
      "metadata": {
        "id": "a59b2093",
        "outputId": "df6d102f-b8a4-4aef-f27b-165d5daa560e"
      },
      "outputs": [
        {
          "data": {
            "text/plain": [
              "7"
            ]
          },
          "execution_count": 16,
          "metadata": {},
          "output_type": "execute_result"
        }
      ],
      "source": [
        "a = [1,2,1,1,1,1,1,1,4,5]\n",
        "a.count(1)   # it will check frequency of element ."
      ]
    },
    {
      "cell_type": "markdown",
      "id": "bd2134ed",
      "metadata": {
        "id": "bd2134ed"
      },
      "source": [
        "# How can we create a user defined List ?"
      ]
    },
    {
      "cell_type": "code",
      "execution_count": null,
      "id": "89b4a4fb",
      "metadata": {
        "id": "89b4a4fb",
        "outputId": "0f264bd4-c23f-4033-e69a-a92c9f1f5c8f"
      },
      "outputs": [
        {
          "name": "stdout",
          "output_type": "stream",
          "text": [
            "Enter size:2\n",
            "Enter item:dsfsdg\n",
            "Enter item:567\n",
            "['dsfsdg', '567']\n"
          ]
        }
      ],
      "source": [
        "a= []\n",
        "size = int(input(\"Enter size:\"))\n",
        "for i in range(size):\n",
        "    val = input(\"Enter item:\")\n",
        "    a.append(val)\n",
        "print(a)"
      ]
    },
    {
      "cell_type": "code",
      "execution_count": null,
      "id": "29f8c376",
      "metadata": {
        "id": "29f8c376",
        "outputId": "3c8b8619-dac7-4b12-e565-1e43e95dfd71"
      },
      "outputs": [
        {
          "name": "stdout",
          "output_type": "stream",
          "text": [
            "Enter size:2\n",
            "Enter item:45\n",
            "Enter item:7888\n",
            "[45, 7888]\n"
          ]
        }
      ],
      "source": [
        "a= []\n",
        "size = int(input(\"Enter size:\"))\n",
        "for i in range(size):\n",
        "    val = int(input(\"Enter item:\"))\n",
        "    a.append(val)\n",
        "print(a)"
      ]
    },
    {
      "cell_type": "code",
      "execution_count": null,
      "id": "9b8340d1",
      "metadata": {
        "id": "9b8340d1",
        "outputId": "105e4483-e57e-4f3f-eee6-b062c6798aa4"
      },
      "outputs": [
        {
          "name": "stdout",
          "output_type": "stream",
          "text": [
            "900\n"
          ]
        }
      ],
      "source": [
        "# Q.1\n",
        "a = [34,1,78,45,900,3]\n",
        "max = a[0]\n",
        "for i in range(len(a)):\n",
        "    if(a[i]>max):\n",
        "        max = a[i]\n",
        "print(max)"
      ]
    },
    {
      "cell_type": "code",
      "execution_count": null,
      "id": "89cf771a",
      "metadata": {
        "id": "89cf771a",
        "outputId": "c17cdcf3-df57-4d2f-b728-b66f9631fdbf"
      },
      "outputs": [
        {
          "name": "stdout",
          "output_type": "stream",
          "text": [
            "Enter size:4\n",
            "Enter item:12\n",
            "Enter item:78\n",
            "Enter item:432222\n",
            "Enter item:90\n",
            "[12, 78, 432222, 90]\n",
            "432222\n"
          ]
        }
      ],
      "source": [
        "a= []\n",
        "size = int(input(\"Enter size:\"))\n",
        "for i in range(size):\n",
        "    val = int(input(\"Enter item:\"))\n",
        "    a.append(val)\n",
        "print(a)\n",
        "max = a[0]\n",
        "for i in range(len(a)):\n",
        "    if(a[i]>max):\n",
        "        max = a[i]\n",
        "print(max)"
      ]
    },
    {
      "cell_type": "code",
      "execution_count": null,
      "id": "fd535832",
      "metadata": {
        "id": "fd535832"
      },
      "outputs": [],
      "source": [
        "# Tuple\n",
        "# (1). Identification = ()\n",
        "# (2). Immutable data type\n",
        "# (3). Indexing start from 0 and length start from 1 ."
      ]
    },
    {
      "cell_type": "code",
      "execution_count": null,
      "id": "de70f10b",
      "metadata": {
        "id": "de70f10b",
        "outputId": "5886c62a-5a5a-41b1-d53a-14250e75ff8c"
      },
      "outputs": [
        {
          "data": {
            "text/plain": [
              "tuple"
            ]
          },
          "execution_count": 24,
          "metadata": {},
          "output_type": "execute_result"
        }
      ],
      "source": [
        "a = ('sam' , 67 , 3444 , 'raj')\n",
        "type(a)"
      ]
    },
    {
      "cell_type": "code",
      "execution_count": null,
      "id": "547eba78",
      "metadata": {
        "id": "547eba78"
      },
      "outputs": [],
      "source": [
        "# a[1] = 800"
      ]
    },
    {
      "cell_type": "code",
      "execution_count": null,
      "id": "77190a47",
      "metadata": {
        "id": "77190a47"
      },
      "outputs": [],
      "source": [
        "a = ('sam' , 67 , 3444 , 'raj')\n",
        "# change\n",
        "a = ('sam' , 600 , 3444 , 'raj')"
      ]
    },
    {
      "cell_type": "code",
      "execution_count": null,
      "id": "b749ceac",
      "metadata": {
        "id": "b749ceac",
        "outputId": "53dfee9d-8843-4f29-b6ec-a1e4cb34c748"
      },
      "outputs": [
        {
          "name": "stdout",
          "output_type": "stream",
          "text": [
            "('sam', 67, 3444, 'raj')\n",
            "['sam', 600, 3444, 'raj']\n",
            "('sam', 600, 3444, 'raj')\n"
          ]
        }
      ],
      "source": [
        "a = ('sam' , 67 , 3444 , 'raj')\n",
        "# print(type(a))\n",
        "print(a)\n",
        "b = list(a)\n",
        "b[1] = 600\n",
        "print(b)\n",
        "c = tuple(b)\n",
        "print(c)"
      ]
    },
    {
      "cell_type": "code",
      "execution_count": null,
      "id": "d47f0b28",
      "metadata": {
        "id": "d47f0b28",
        "outputId": "617d8679-6d9e-4610-b820-8adb11869adc"
      },
      "outputs": [
        {
          "name": "stdout",
          "output_type": "stream",
          "text": [
            "sam\n",
            "67\n",
            "3444\n",
            "raj\n"
          ]
        }
      ],
      "source": [
        "a = ('sam' , 67 , 3444 , 'raj')\n",
        "for i in range(len(a)):\n",
        "    print(a[i])"
      ]
    },
    {
      "cell_type": "code",
      "execution_count": null,
      "id": "063b8032",
      "metadata": {
        "id": "063b8032",
        "outputId": "a78dc2e4-0897-4158-a1f6-dc592c736f87"
      },
      "outputs": [
        {
          "data": {
            "text/plain": [
              "1"
            ]
          },
          "execution_count": 37,
          "metadata": {},
          "output_type": "execute_result"
        }
      ],
      "source": [
        "a = ('sam' , 67 , 3444 , 'raj')\n",
        "a.count('sam')"
      ]
    },
    {
      "cell_type": "code",
      "execution_count": null,
      "id": "77465d45",
      "metadata": {
        "id": "77465d45",
        "outputId": "e532c297-fe29-4433-d5b9-75f645d3df95"
      },
      "outputs": [
        {
          "data": {
            "text/plain": [
              "3"
            ]
          },
          "execution_count": 38,
          "metadata": {},
          "output_type": "execute_result"
        }
      ],
      "source": [
        "a.index('raj')"
      ]
    },
    {
      "cell_type": "markdown",
      "id": "82c3092d",
      "metadata": {
        "id": "82c3092d"
      },
      "source": [
        "# How can we create a user defiend tuple ?"
      ]
    },
    {
      "cell_type": "code",
      "execution_count": null,
      "id": "ca451d0b",
      "metadata": {
        "id": "ca451d0b",
        "outputId": "d451d332-9f63-423c-d2f3-05fe7b0afe60"
      },
      "outputs": [
        {
          "name": "stdout",
          "output_type": "stream",
          "text": [
            "Enter size:2\n",
            "Enter item:12\n",
            "Enter item:4556\n"
          ]
        },
        {
          "data": {
            "text/plain": [
              "(12, 4556)"
            ]
          },
          "execution_count": 41,
          "metadata": {},
          "output_type": "execute_result"
        }
      ],
      "source": [
        "a = []\n",
        "size = int(input(\"Enter size:\"))\n",
        "for i in range(size):\n",
        "    val = int(input(\"Enter item:\"))\n",
        "    a.append(val)\n",
        "# print(a)\n",
        "b = tuple(a)\n",
        "b"
      ]
    },
    {
      "cell_type": "code",
      "execution_count": null,
      "id": "df3ad947",
      "metadata": {
        "id": "df3ad947"
      },
      "outputs": [],
      "source": []
    }
  ],
  "metadata": {
    "kernelspec": {
      "display_name": "Python 3 (ipykernel)",
      "language": "python",
      "name": "python3"
    },
    "language_info": {
      "codemirror_mode": {
        "name": "ipython",
        "version": 3
      },
      "file_extension": ".py",
      "mimetype": "text/x-python",
      "name": "python",
      "nbconvert_exporter": "python",
      "pygments_lexer": "ipython3",
      "version": "3.9.12"
    },
    "colab": {
      "provenance": [],
      "include_colab_link": true
    }
  },
  "nbformat": 4,
  "nbformat_minor": 5
}