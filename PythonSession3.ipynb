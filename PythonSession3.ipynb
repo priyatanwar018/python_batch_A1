{
  "nbformat": 4,
  "nbformat_minor": 0,
  "metadata": {
    "colab": {
      "provenance": [],
      "authorship_tag": "ABX9TyM8Tv3ftvD7htkhp37rDXk2",
      "include_colab_link": true
    },
    "kernelspec": {
      "name": "python3",
      "display_name": "Python 3"
    },
    "language_info": {
      "name": "python"
    }
  },
  "cells": [
    {
      "cell_type": "markdown",
      "metadata": {
        "id": "view-in-github",
        "colab_type": "text"
      },
      "source": [
        "<a href=\"https://colab.research.google.com/github/priyatanwar018/python_batch_A1/blob/main/PythonSession3.ipynb\" target=\"_parent\"><img src=\"https://colab.research.google.com/assets/colab-badge.svg\" alt=\"Open In Colab\"/></a>"
      ]
    },
    {
      "cell_type": "code",
      "execution_count": 2,
      "metadata": {
        "colab": {
          "base_uri": "https://localhost:8080/"
        },
        "id": "6Rs2zkuarY_1",
        "outputId": "07252d9f-e77c-48dd-e8ba-1e26184adb27"
      },
      "outputs": [
        {
          "output_type": "stream",
          "name": "stdout",
          "text": [
            "Enter a number: 10\n",
            "1\n",
            "2\n",
            "3\n",
            "4\n",
            "5\n",
            "6\n",
            "7\n",
            "8\n",
            "9\n",
            "10\n"
          ]
        }
      ],
      "source": [
        "# Ques 1 Write a program that takes an integer N as input and prints all the numbers from 1 to N using a while loop.\n",
        "\n",
        "N = int(input(\"Enter a number: \"))\n",
        "i = 1\n",
        "\n",
        "while i <= N:\n",
        "  print(i)\n",
        "  i += 1"
      ]
    },
    {
      "cell_type": "code",
      "source": [
        "# Ques 2 Write a program to calculate the sum of numbers from 1 to N using while loop.\n",
        "\n",
        "N = int(input(\"Enter a number: \"))\n",
        "i = 1\n",
        "sum = 0\n",
        "\n",
        "while i <= N:\n",
        "  sum += i\n",
        "  i += 1\n",
        "print(sum)"
      ],
      "metadata": {
        "colab": {
          "base_uri": "https://localhost:8080/"
        },
        "id": "3vQW2SlJrrnh",
        "outputId": "68d19743-eb08-4b83-f6f3-399a696d7ff5"
      },
      "execution_count": 4,
      "outputs": [
        {
          "output_type": "stream",
          "name": "stdout",
          "text": [
            "Enter a number: 10\n",
            "55\n"
          ]
        }
      ]
    },
    {
      "cell_type": "code",
      "source": [
        "# Ques 3 Write a program to calculate the factorial of a number N using a while loop.\n",
        "\n",
        "N = int(input(\"Enter a number: \"))\n",
        "factorial = 1\n",
        "\n",
        "while N > 0:\n",
        "  factorial *= N\n",
        "  N -= 1\n",
        "print(factorial)"
      ],
      "metadata": {
        "colab": {
          "base_uri": "https://localhost:8080/"
        },
        "id": "wvndbfwPr8Uv",
        "outputId": "660c3273-75a8-49f9-f6a8-a143c85d7cfc"
      },
      "execution_count": 5,
      "outputs": [
        {
          "output_type": "stream",
          "name": "stdout",
          "text": [
            "Enter a number: 5\n",
            "120\n"
          ]
        }
      ]
    },
    {
      "cell_type": "code",
      "source": [
        "# Ques 4 Write a program to reverse a given integer using a while loop.\n",
        "\n",
        "N = int(input(\"Enter a number: \"))\n",
        "reverse = 0\n",
        "\n",
        "while N > 0:\n",
        "  reverse = reverse * 10 + N % 10\n",
        "  N //= 10\n",
        "print(reverse)"
      ],
      "metadata": {
        "colab": {
          "base_uri": "https://localhost:8080/"
        },
        "id": "H9lprY5ksFxx",
        "outputId": "b1bcafb4-a955-44f1-d740-6e55281c25c8"
      },
      "execution_count": 6,
      "outputs": [
        {
          "output_type": "stream",
          "name": "stdout",
          "text": [
            "Enter a number: 1023\n",
            "3201\n"
          ]
        }
      ]
    },
    {
      "cell_type": "code",
      "source": [
        "# Ques 5 Write a program to print all even numbers upto a given number N using a while loop.\n",
        "\n",
        "N = int(input(\"Enter a number: \"))\n",
        "i = 1\n",
        "\n",
        "while i <= N:\n",
        "  if i % 2 == 0:\n",
        "    print(i)\n",
        "    i += 1\n",
        "  else:\n",
        "    i += 1"
      ],
      "metadata": {
        "colab": {
          "base_uri": "https://localhost:8080/"
        },
        "id": "fCXPL3xOsPld",
        "outputId": "511dc956-2e6a-4108-dc88-e94b082decd6"
      },
      "execution_count": 8,
      "outputs": [
        {
          "output_type": "stream",
          "name": "stdout",
          "text": [
            "Enter a number: 10\n",
            "2\n",
            "4\n",
            "6\n",
            "8\n",
            "10\n"
          ]
        }
      ]
    },
    {
      "cell_type": "code",
      "source": [
        "# Ques 6 Write a program to count the number of digits in a given number using a while loop.\n",
        "\n",
        "N = int(input(\"Enter a number: \"))\n",
        "count = 0\n",
        "\n",
        "while N > 0:\n",
        "  N //= 10\n",
        "  count += 1\n",
        "print(count)"
      ],
      "metadata": {
        "colab": {
          "base_uri": "https://localhost:8080/"
        },
        "id": "oLwPCUvyscRL",
        "outputId": "7c9cfd51-e22f-45ba-fe0b-fedbd1a7f100"
      },
      "execution_count": 9,
      "outputs": [
        {
          "output_type": "stream",
          "name": "stdout",
          "text": [
            "Enter a number: 102345\n",
            "6\n"
          ]
        }
      ]
    },
    {
      "cell_type": "code",
      "source": [
        "# Ques 7 Write a program to find the sum of the digits of a given number N using a while loop.\n",
        "\n",
        "N = int(input(\"Enter a number: \"))\n",
        "sum = 0\n",
        "\n",
        "while N > 0:\n",
        "  rem = N % 10\n",
        "  sum += rem\n",
        "  N //= 10\n",
        "print(sum)"
      ],
      "metadata": {
        "colab": {
          "base_uri": "https://localhost:8080/"
        },
        "id": "rJczxy4Rskqu",
        "outputId": "c6031e68-8b2d-4400-c8c1-e247f3288691"
      },
      "execution_count": 10,
      "outputs": [
        {
          "output_type": "stream",
          "name": "stdout",
          "text": [
            "Enter a number: 1234\n",
            "10\n"
          ]
        }
      ]
    }
  ]
}