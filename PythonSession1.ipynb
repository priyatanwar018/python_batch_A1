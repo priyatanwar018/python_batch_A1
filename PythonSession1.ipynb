{
  "nbformat": 4,
  "nbformat_minor": 0,
  "metadata": {
    "colab": {
      "provenance": [],
      "include_colab_link": true
    },
    "kernelspec": {
      "name": "python3",
      "display_name": "Python 3"
    },
    "language_info": {
      "name": "python"
    }
  },
  "cells": [
    {
      "cell_type": "markdown",
      "metadata": {
        "id": "view-in-github",
        "colab_type": "text"
      },
      "source": [
        "<a href=\"https://colab.research.google.com/github/priyatanwar018/python_batch_A1/blob/main/PythonSession1.ipynb\" target=\"_parent\"><img src=\"https://colab.research.google.com/assets/colab-badge.svg\" alt=\"Open In Colab\"/></a>"
      ]
    },
    {
      "cell_type": "code",
      "execution_count": null,
      "metadata": {
        "id": "vXTxCoNEBHo2"
      },
      "outputs": [],
      "source": [
        "# Introduction to Python ===>\n",
        "# Python is a high-level , general purpose interpreted programming language which was invented in 1991\n",
        "# by Guido Van Rossoum .\n",
        "\n",
        "# (1). Data Science ===> Data Enginner ===> Data Analyst ==> Machine Learning Engineer .\n",
        "# (2). Web Development===> (DJANGO , FLASK) Framework\n",
        "# (3). Cyber-Security ===> secure ports add  .\n"
      ]
    },
    {
      "cell_type": "code",
      "source": [
        "# Fundamentals of Python\n",
        "# (1). Variable\n",
        "# (2). Data type\n",
        "# (3). print() & input()\n",
        "\n",
        "# (1). Variable ===> This is a container in which we can store or assign our values .\n",
        "a = 56\n",
        "b = \"sam\"\n",
        "c = 67.89        ### here a,b,c = variables .\n",
        "\n",
        "# (2). Data types ===>\n",
        "# (a). Int  ====> All positive or negative values . Ex . 34 , 67 , -34 , -12\n",
        "# (b). Float ===> All decimal values . Ex. 3.45 , 0.42\n",
        "# (c). String ===> 'single_quotes' , \"double_quotes\" , '''triple_quotes'''\n",
        "# (d). Boolean ===> TRUE , FALSE\n",
        "\n",
        "# type() ===> using type() , we can check data tpye of elements .\n",
        "\n",
        "a = 56\n",
        "print(type(a))\n",
        "b = 23.89\n",
        "print(type(b))\n",
        "c = \"sam\"\n",
        "print(type(c))\n",
        "d = 5>4\n",
        "print(type(d))\n",
        "print(d)"
      ],
      "metadata": {
        "colab": {
          "base_uri": "https://localhost:8080/"
        },
        "id": "EPpslHTRCGc8",
        "outputId": "f1e82666-e929-46e1-ea08-de31d78e8ae6"
      },
      "execution_count": null,
      "outputs": [
        {
          "output_type": "stream",
          "name": "stdout",
          "text": [
            "<class 'int'>\n",
            "<class 'float'>\n",
            "<class 'str'>\n",
            "<class 'bool'>\n",
            "True\n"
          ]
        }
      ]
    },
    {
      "cell_type": "code",
      "source": [
        "# Installation ===>Google ===> Anaconda download for windows ===> download ."
      ],
      "metadata": {
        "id": "P3YLsfCvD3-M"
      },
      "execution_count": null,
      "outputs": []
    },
    {
      "cell_type": "code",
      "source": [
        "# input() ====> This is pre-defined function of python and it will ask query from\n",
        "# users and by-default it's output will be in string format .\n",
        "a = '12'\n",
        "b = '34'\n",
        "c = a + b\n",
        "print(c)"
      ],
      "metadata": {
        "colab": {
          "base_uri": "https://localhost:8080/"
        },
        "id": "uOTZlVlmHElG",
        "outputId": "eaddfcb0-67bf-4293-f9e2-d1c41dab11b3"
      },
      "execution_count": null,
      "outputs": [
        {
          "output_type": "stream",
          "name": "stdout",
          "text": [
            "1234\n"
          ]
        }
      ]
    },
    {
      "cell_type": "code",
      "source": [
        "a = 12\n",
        "b = 34\n",
        "c = a + b\n",
        "print(c)"
      ],
      "metadata": {
        "colab": {
          "base_uri": "https://localhost:8080/"
        },
        "id": "_b6O81o-HpLE",
        "outputId": "d34ebb1b-f692-4120-b68c-345b129e970a"
      },
      "execution_count": null,
      "outputs": [
        {
          "output_type": "stream",
          "name": "stdout",
          "text": [
            "46\n"
          ]
        }
      ]
    },
    {
      "cell_type": "code",
      "source": [
        "a = input(\"Enter first number:\")\n",
        "b = input(\"Enter second number:\")\n",
        "c = a + b\n",
        "print(c)"
      ],
      "metadata": {
        "colab": {
          "base_uri": "https://localhost:8080/"
        },
        "id": "CHMJcGTiHtua",
        "outputId": "08721f61-151e-4cef-f1dc-2558e877ad6c"
      },
      "execution_count": null,
      "outputs": [
        {
          "output_type": "stream",
          "name": "stdout",
          "text": [
            "Enter first number:12\n",
            "Enter second number:34\n",
            "1234\n"
          ]
        }
      ]
    },
    {
      "cell_type": "code",
      "source": [
        "# type-casting ===> This will convert one data type to another data type.\n",
        "a = '56'\n",
        "type(a)\n",
        "b = int(a)\n",
        "type(b)\n",
        "b\n",
        "c = float(b)\n",
        "type(c)"
      ],
      "metadata": {
        "colab": {
          "base_uri": "https://localhost:8080/"
        },
        "id": "y4TfPWzaH6oK",
        "outputId": "6f608417-6db0-4e38-b088-7735a94ae3ff"
      },
      "execution_count": null,
      "outputs": [
        {
          "output_type": "execute_result",
          "data": {
            "text/plain": [
              "float"
            ]
          },
          "metadata": {},
          "execution_count": 17
        }
      ]
    },
    {
      "cell_type": "code",
      "source": [
        "a = int(input(\"Enter first Number:\"))\n",
        "print(a)\n",
        "b = int(input(\"Enter second Number:\"))\n",
        "print(b)\n",
        "c = a + b\n",
        "print(c)"
      ],
      "metadata": {
        "colab": {
          "base_uri": "https://localhost:8080/"
        },
        "id": "oysqFwMfIM5o",
        "outputId": "7797c9f0-00ae-4b78-dbad-863ad6827c12"
      },
      "execution_count": null,
      "outputs": [
        {
          "output_type": "stream",
          "name": "stdout",
          "text": [
            "Enter first Number:12\n",
            "12\n",
            "Enter second Number:34\n",
            "34\n",
            "46\n"
          ]
        }
      ]
    },
    {
      "cell_type": "code",
      "source": [
        "# print() ==> This is also pre-defined function of python and it will execute our query on terminal."
      ],
      "metadata": {
        "id": "6AfdTMqlI1y8"
      },
      "execution_count": null,
      "outputs": []
    },
    {
      "cell_type": "code",
      "source": [
        "a = '56'\n",
        "print(a)"
      ],
      "metadata": {
        "colab": {
          "base_uri": "https://localhost:8080/"
        },
        "id": "EopUzMsLJ9oU",
        "outputId": "5c1cdd1d-3e62-49c1-a7c5-dcda153686fa"
      },
      "execution_count": null,
      "outputs": [
        {
          "output_type": "stream",
          "name": "stdout",
          "text": [
            "56\n"
          ]
        }
      ]
    },
    {
      "cell_type": "code",
      "source": [],
      "metadata": {
        "id": "4CiWAbMmJ_jB"
      },
      "execution_count": null,
      "outputs": []
    }
  ]
}