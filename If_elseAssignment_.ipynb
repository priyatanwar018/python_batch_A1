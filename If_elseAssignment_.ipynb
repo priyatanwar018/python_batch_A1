{
  "cells": [
    {
      "cell_type": "markdown",
      "metadata": {
        "id": "view-in-github",
        "colab_type": "text"
      },
      "source": [
        "<a href=\"https://colab.research.google.com/github/priyatanwar018/python_batch_A1/blob/main/If_elseAssignment_.ipynb\" target=\"_parent\"><img src=\"https://colab.research.google.com/assets/colab-badge.svg\" alt=\"Open In Colab\"/></a>"
      ]
    },
    {
      "cell_type": "code",
      "source": [
        "# Q1 Write a program that takes an integer input from the user and checks whether the number is odd or even.\n",
        "\n",
        "num = int(input(\"Enter a number: \"))\n",
        "\n",
        "if num % 2 == 0:\n",
        "  print(f\"{num} is even\")\n",
        "else:\n",
        "  print(f\"{num} is odd\")"
      ],
      "metadata": {
        "colab": {
          "base_uri": "https://localhost:8080/"
        },
        "id": "pc77NpV5BUvr",
        "outputId": "4af4c2b7-2831-4e0c-8506-5713015974df"
      },
      "id": "pc77NpV5BUvr",
      "execution_count": 1,
      "outputs": [
        {
          "output_type": "stream",
          "name": "stdout",
          "text": [
            "Enter a number: 23\n",
            "23 is odd\n"
          ]
        }
      ]
    },
    {
      "cell_type": "code",
      "source": [
        "# Q2 Write a program that takes three numbers as input and prints the largest of the three.\n",
        "\n",
        "num1 = int(input(\"Enter first number: \"))\n",
        "num2 = int(input(\"Enter second number: \"))\n",
        "num3 = int(input(\"Enter third number: \"))\n",
        "\n",
        "if num1 > num2 and num1 > num3:\n",
        "  print(f\"{num1} is largest\")\n",
        "elif num2 > num1 and num2 > num3:\n",
        "  print(f\"{num2} is largest\")\n",
        "else:\n",
        "  print(f\"{num3} is largest\")"
      ],
      "metadata": {
        "colab": {
          "base_uri": "https://localhost:8080/"
        },
        "id": "_qN0jbtfPU3Q",
        "outputId": "277a3b54-7263-4d46-c2e1-90c11d4f9ce7"
      },
      "id": "_qN0jbtfPU3Q",
      "execution_count": 2,
      "outputs": [
        {
          "output_type": "stream",
          "name": "stdout",
          "text": [
            "Enter first number: 3\n",
            "Enter second number: 5\n",
            "Enter third number: 7\n",
            "7 is largest\n"
          ]
        }
      ]
    },
    {
      "cell_type": "code",
      "source": [
        "# Q3 Write a program to check if a given year is a leap year. A leap year is divisible by 4 but not by 100\n",
        "# unless it is also divisible by 400.\n",
        "\n",
        "year = int(input(\"Enter a year: \"))\n",
        "\n",
        "if year % 4 == 0 and year % 100 != 0 or year % 400 == 0:\n",
        "  print(f\"{year} is a leap year\")\n",
        "else:\n",
        "  print(f\"{year} is not a leap year\")"
      ],
      "metadata": {
        "colab": {
          "base_uri": "https://localhost:8080/"
        },
        "id": "FsoHYgDvQj64",
        "outputId": "a43ab937-0f7c-4288-fa28-8d6d30b30852"
      },
      "id": "FsoHYgDvQj64",
      "execution_count": 4,
      "outputs": [
        {
          "output_type": "stream",
          "name": "stdout",
          "text": [
            "Enter a year: 1977\n",
            "1977 is not a leap year\n"
          ]
        }
      ]
    },
    {
      "cell_type": "code",
      "source": [
        "# Q4 Write a program that takes a percentage (integer) as input and prints the corresponding grade based on the following criteria:\n",
        "# >= 90: Grade A\n",
        "# >= 80: Grade B\n",
        "# >= 70: Grade C\n",
        "# >= 60: Grade D\n",
        "# < 60: Grade F\n",
        "\n",
        "percentage = int(input(\"Enter your percentage: \"))\n",
        "\n",
        "if percentage >= 90:\n",
        "  print(\"Grade A\")\n",
        "elif percentage >= 80:\n",
        "  print(\"Grade B\")\n",
        "elif percentage >= 70:\n",
        "  print(\"Grade C\")\n",
        "elif percentage >= 60:\n",
        "  print(\"Grade D\")\n",
        "else:\n",
        "  print(\"Grade F\")"
      ],
      "metadata": {
        "colab": {
          "base_uri": "https://localhost:8080/"
        },
        "id": "I2IrzvesSACe",
        "outputId": "1aad83e9-31ca-428c-9b81-3adf065f00c1"
      },
      "id": "I2IrzvesSACe",
      "execution_count": 5,
      "outputs": [
        {
          "output_type": "stream",
          "name": "stdout",
          "text": [
            "Enter your percentage: 75\n",
            "Grade C\n"
          ]
        }
      ]
    },
    {
      "cell_type": "code",
      "source": [
        "# Q5 Write a program that checks if a given letter is a vowel (a, e, i, o, u) or a consonant.\n",
        "\n",
        "letter = input(\"Enter a letter: \")\n",
        "\n",
        "if letter.lower in ['a','e','i','o','u']:\n",
        "  print(f\"{letter} is a vowel\")\n",
        "else:\n",
        "  print(f\"{letter} is a consonant\")"
      ],
      "metadata": {
        "colab": {
          "base_uri": "https://localhost:8080/"
        },
        "id": "qEQz_Qt6S6xb",
        "outputId": "8b42abd6-a8e8-49f6-cca1-e75c8750e10c"
      },
      "id": "qEQz_Qt6S6xb",
      "execution_count": 6,
      "outputs": [
        {
          "output_type": "stream",
          "name": "stdout",
          "text": [
            "Enter a letter: f\n",
            "f is a consonant\n"
          ]
        }
      ]
    },
    {
      "cell_type": "code",
      "source": [
        "# Q6 Write a basic calculator program that takes two numbers and an operator (+, -, *, /) as input and\n",
        "# performs the specified operation. Print the result based on the operation.\n",
        "\n",
        "num1 = int(input(\"Enter first number: \"))\n",
        "num2 = int(input(\"Enter second number: \"))\n",
        "operator = input(\"Enter operator(+,-,*,/): \")\n",
        "\n",
        "if operator == '+':\n",
        "  print(f\"{num1} + {num2} = {num1 + num2}\")\n",
        "elif operator == '-':\n",
        "  print(f\"{num1} - {num2} = {num1 - num2}\")\n",
        "elif operator == '*':\n",
        "  print(f\"{num1} * {num2} = {num1 * num2}\")\n",
        "elif operator == '/':\n",
        "  print(f\"{num1} / {num2} = {num1 / num2}\")\n",
        "else:\n",
        "  print(\"Enter a valid operator\")"
      ],
      "metadata": {
        "colab": {
          "base_uri": "https://localhost:8080/"
        },
        "id": "OOBX-am_TpJa",
        "outputId": "815b303d-8ab1-4e3e-9278-2681cd58f6ad"
      },
      "id": "OOBX-am_TpJa",
      "execution_count": 8,
      "outputs": [
        {
          "output_type": "stream",
          "name": "stdout",
          "text": [
            "Enter first number: 9\n",
            "Enter second number: 5\n",
            "Enter operator(+,-,*,/): *\n",
            "9 * 5 = 45\n"
          ]
        }
      ]
    },
    {
      "cell_type": "code",
      "source": [
        "# Q7 Write a program that takes a number as input and checks whether it is positive, negative, or zero.\n",
        "\n",
        "num = int(input(\"Enter a number: \"))\n",
        "\n",
        "if num == 0:\n",
        "  print(f\"{num} is zero\")\n",
        "elif num > 0:\n",
        "  print(f\"{num} is positive\")\n",
        "else:\n",
        "  print(f\"{num} is negative\")"
      ],
      "metadata": {
        "colab": {
          "base_uri": "https://localhost:8080/"
        },
        "id": "Wfu8X0wuVACt",
        "outputId": "0340c9de-3141-4a5e-aae6-334706aa4c72"
      },
      "id": "Wfu8X0wuVACt",
      "execution_count": 9,
      "outputs": [
        {
          "output_type": "stream",
          "name": "stdout",
          "text": [
            "Enter a number: -101\n",
            "-101 is negative\n"
          ]
        }
      ]
    },
    {
      "cell_type": "code",
      "source": [
        "# Q8 Write a program that checks if a username and password entered by the user match the pre-set values username = \"admin\" and password = \"1234\".\n",
        "# If both match, print \"Login Successful\", otherwise print \"Login Failed\".\n",
        "\n",
        "set_username = input(\"Set your username: \")\n",
        "set_pswd = int(input(\"Set your password: \"))\n",
        "\n",
        "username = input(\"Enter your username: \")\n",
        "pswd = int(input(\"Enter your password: \"))\n",
        "\n",
        "if username == set_username and pswd == set_pswd:\n",
        "  print(\"Login Successful\")\n",
        "else:\n",
        "  print(\"Login failed\")"
      ],
      "metadata": {
        "colab": {
          "base_uri": "https://localhost:8080/"
        },
        "id": "zOeoW1pJV8aY",
        "outputId": "5467df4d-6fea-45ba-9398-48c26456eede"
      },
      "id": "zOeoW1pJV8aY",
      "execution_count": 12,
      "outputs": [
        {
          "output_type": "stream",
          "name": "stdout",
          "text": [
            "Set your username: admin\n",
            "Set your password: 1234\n",
            "Enter your username: Admin\n",
            "Enter your password: 1234\n",
            "Login failed\n"
          ]
        }
      ]
    },
    {
      "cell_type": "code",
      "source": [
        "# Q9 Write a program that takes three sides of a triangle as input and checks if those sides form a valid triangle.\n",
        "# A triangle is valid if the sum of any two sides is greater than the third side.\n",
        "# Check conditions like a + b > c, b + c > a, and a + c > b.\n",
        "\n",
        "a = int(input(\"Enter the length of first side of triangle: \"))\n",
        "b = int(input(\"Enter the length of second side of triangle: \"))\n",
        "c = int(input(\"Enter the length of third side of triangle: \"))\n",
        "print()\n",
        "\n",
        "if ((a + b) > c) and ((b + c) > a) and ((a + c) > b):\n",
        "  print(f\"Sides {a}, {b} and {c} forms a triangle\")\n",
        "else:\n",
        "  print(f\"Sides {a}, {b} and {c} do not form a triangle\")"
      ],
      "metadata": {
        "colab": {
          "base_uri": "https://localhost:8080/"
        },
        "id": "VRntnWGUhkKK",
        "outputId": "c85b44ab-fbd5-4a71-d858-168ac334e6ca"
      },
      "id": "VRntnWGUhkKK",
      "execution_count": 15,
      "outputs": [
        {
          "output_type": "stream",
          "name": "stdout",
          "text": [
            "Enter the length of first side of triangle: 4\n",
            "Enter the length of second side of triangle: 4\n",
            "Enter the length of third side of triangle: 2\n",
            "\n",
            "Sides 4, 4 and 2 forms a triangle\n"
          ]
        }
      ]
    },
    {
      "cell_type": "code",
      "source": [
        "# Q10 Write a program that calculates the Body Mass Index (BMI) based on user input for weight (in kilograms) and height (in meters). Then categorize the BMI into:\n",
        "# Underweight (BMI < 18.5)\n",
        "# Normal weight (18.5 <= BMI < 24.9)\n",
        "# Overweight (25 <= BMI < 29.9)\n",
        "# Obesity (BMI >= 30)\n",
        "# Use the formula: BMI = weight / (height ** 2)\n",
        "\n",
        "weight = float(input(\"Enter your weight in kilograms: \"))\n",
        "height = float(input(\"Enter your height in meters: \"))\n",
        "\n",
        "bmi = weight / (height ** 2)\n",
        "\n",
        "if bmi < 18.5:\n",
        "  print(f\"BMI: {bmi}\\nUnderweight\")\n",
        "elif 18.5 <= bmi < 24.9:\n",
        "  print(f\"BMI: {bmi}\\nNormal Weight\")\n",
        "elif 25 <= bmi < 29.9:\n",
        "  print(f\"BMI: {bmi}\\nOverweight\")\n",
        "elif bmi >= 30:\n",
        "  print(f\"BMI: {bmi}\\nObesity\")"
      ],
      "metadata": {
        "colab": {
          "base_uri": "https://localhost:8080/"
        },
        "id": "td-FdenWjpBM",
        "outputId": "144194d0-4785-4b65-daa0-8b07f4d2dc31"
      },
      "id": "td-FdenWjpBM",
      "execution_count": 22,
      "outputs": [
        {
          "output_type": "stream",
          "name": "stdout",
          "text": [
            "Enter your weight in kilograms: 48\n",
            "Enter your height in meters: 1.7018\n",
            "BMI: 16.573880329761103\n",
            "Underweight\n"
          ]
        }
      ]
    },
    {
      "cell_type": "code",
      "source": [
        "# Q11 Write a program that calculates the discount for a product based on its price:\n",
        "# If price is greater than 1000, discount is 10%\n",
        "# If price is between 500 and 1000, discount is 5%\n",
        "# Otherwise, no discount\n",
        "# Print the final price after applying the discount.\n",
        "\n",
        "price = int(input(\"Enter the price of the product: \"))\n",
        "\n",
        "if price > 1000:\n",
        "  final_price = price * 0.9\n",
        "elif 500 < price < 1000:\n",
        "  final_price = price * 0.95\n",
        "else:\n",
        "  final_price = price\n",
        "print(f\"Final Price: {final_price}\")"
      ],
      "metadata": {
        "colab": {
          "base_uri": "https://localhost:8080/"
        },
        "id": "sEeiY3h9vFKg",
        "outputId": "7257e903-a0ac-4dde-c7fd-e53b37dca73c"
      },
      "id": "sEeiY3h9vFKg",
      "execution_count": 23,
      "outputs": [
        {
          "output_type": "stream",
          "name": "stdout",
          "text": [
            "Enter the price of the product: 750\n",
            "Final Price: 712.5\n"
          ]
        }
      ]
    },
    {
      "cell_type": "code",
      "source": [
        "# Q12 Write a program that takes the name of a month as input and prints the number of days in that month. Consider leap years for February.\n",
        "\n",
        "month = input(\"Enter the name of the month: \")\n",
        "\n",
        "if month.capitalize() in ['January','March','May','July','August','October','December']:\n",
        "  print(f\"{month} has 31 days\")\n",
        "elif month.capitalize() == 'February':\n",
        "  print(f\"{month} has 29 days\")\n",
        "elif month.capitalize() in ['April','June','September','November']:\n",
        "  print(f\"{month} has 30 days\")\n",
        "else:\n",
        "  print(\"Enter a valid month\")"
      ],
      "metadata": {
        "colab": {
          "base_uri": "https://localhost:8080/"
        },
        "id": "42OeRbK90W1O",
        "outputId": "d493f517-aa72-433b-a134-74f3580de8bf"
      },
      "id": "42OeRbK90W1O",
      "execution_count": 3,
      "outputs": [
        {
          "output_type": "stream",
          "name": "stdout",
          "text": [
            "Enter the name of the month: october\n",
            "october has 31 days\n"
          ]
        }
      ]
    },
    {
      "cell_type": "code",
      "source": [
        "# Q13 Write a program that simulates a simple ATM. The user should be able to:\n",
        "# Check balance\n",
        "# Deposit money\n",
        "# Withdraw money (ensure the balance doesn't go negative) Use an if-else structure to handle the user's choices.\n",
        "\n",
        "balance = 5000\n",
        "choice = int(input(\"Enter your choice(1.Check balance 2.Deposit Money 3.Withdraw Money): \"))\n",
        "\n",
        "if choice == 1:\n",
        "  print(f\"Balance: {balance}\")\n",
        "elif choice == 2:\n",
        "  amount = int(input(\"Enter the amount you want to deposit: \"))\n",
        "  balance += amount\n",
        "  print(f\"Deposite Successful\")\n",
        "  print(f\"Current Balance: {balance}\")\n",
        "elif choice == 3:\n",
        "  amount = int(input(\"Enter the amount you want to withdraw: \"))\n",
        "  if amount > balance:\n",
        "    print(\"Insufficient Balance\")\n",
        "    print(f\"Balance: {balance}\")\n",
        "  else:\n",
        "    balance -= amount\n",
        "    print(\"Withdrwal Successful\")\n",
        "    print(f\"Current Balance: {balance}\")\n",
        "else:\n",
        "  print(\"Enter valid choice\")"
      ],
      "metadata": {
        "colab": {
          "base_uri": "https://localhost:8080/"
        },
        "id": "eS4Uwu00ya-g",
        "outputId": "428f5cb1-ed04-4d74-e6b3-d59bd654b7b1"
      },
      "id": "eS4Uwu00ya-g",
      "execution_count": 11,
      "outputs": [
        {
          "output_type": "stream",
          "name": "stdout",
          "text": [
            "Enter your choice(1.Check balance 2.Deposit Money 3.Withdraw Money): 3\n",
            "Enter the amount you want to withdraw: 2000\n",
            "Withdrwal Successful\n",
            "Current Balance: 3000\n"
          ]
        }
      ]
    },
    {
      "cell_type": "code",
      "source": [
        "# Q14 Write a program that categorizes a given age into different groups:\n",
        "# Infant (0-1 year)\n",
        "# Toddler (2-4 years)\n",
        "# Child (5-12 years)\n",
        "# Teenager (13-19 years)\n",
        "# Adult (20-59 years)\n",
        "# Senior (60 years and above)\n",
        "\n",
        "age = float(input(\"Enter your age: \"))\n",
        "\n",
        "if 0 <= age <= 1:\n",
        "  print(\"Infant\")\n",
        "elif 2 <= age <= 4:\n",
        "  print(\"Toddler\")\n",
        "elif 5 <= age <= 12:\n",
        "  print(\"Child\")\n",
        "elif 13 <= age <= 19:\n",
        "  print(\"Teenager\")\n",
        "elif 20 <= age <= 59:\n",
        "  print(\"Adult\")\n",
        "else:\n",
        "  print(\"Senior\")"
      ],
      "metadata": {
        "colab": {
          "base_uri": "https://localhost:8080/"
        },
        "id": "dSJieOXz3D0Z",
        "outputId": "05c5d4d8-d915-4bc9-9daf-05f8938bb1ba"
      },
      "id": "dSJieOXz3D0Z",
      "execution_count": 17,
      "outputs": [
        {
          "output_type": "stream",
          "name": "stdout",
          "text": [
            "Enter your age: 90\n",
            "Senior\n"
          ]
        }
      ]
    },
    {
      "cell_type": "code",
      "source": [
        "# Q15 Write a program that takes an integer (1-7) as input and prints the corresponding day of the week (1 for Monday, 2 for Tuesday, etc.).\n",
        "\n",
        "num = int(input(\"Enter the number of the week day(1-7): \"))\n",
        "\n",
        "if num == 1:\n",
        "  print(\"Monday\")\n",
        "elif num == 2:\n",
        "  print(\"Tuesday\")\n",
        "elif num == 3:\n",
        "  print(\"Wednesday\")\n",
        "elif num == 4:\n",
        "  print(\"Thursday\")\n",
        "elif num == 5:\n",
        "  print(\"Friday\")\n",
        "elif num == 6:\n",
        "  print(\"Saturday\")\n",
        "elif num == 7:\n",
        "  print(\"Sunday\")\n",
        "else:\n",
        "  print(\"Enter a valid number\")"
      ],
      "metadata": {
        "colab": {
          "base_uri": "https://localhost:8080/"
        },
        "id": "KWVv8FL-5ghm",
        "outputId": "4d6f4a25-7376-4ed9-a8a2-6e22edfc51fc"
      },
      "id": "KWVv8FL-5ghm",
      "execution_count": 26,
      "outputs": [
        {
          "output_type": "stream",
          "name": "stdout",
          "text": [
            "Enter the number of the week day: 8\n",
            "Enter a valid number\n"
          ]
        }
      ]
    },
    {
      "cell_type": "code",
      "source": [],
      "metadata": {
        "id": "jlP_zJz06jhP"
      },
      "id": "jlP_zJz06jhP",
      "execution_count": null,
      "outputs": []
    }
  ],
  "metadata": {
    "kernelspec": {
      "display_name": "Python 3 (ipykernel)",
      "language": "python",
      "name": "python3"
    },
    "language_info": {
      "codemirror_mode": {
        "name": "ipython",
        "version": 3
      },
      "file_extension": ".py",
      "mimetype": "text/x-python",
      "name": "python",
      "nbconvert_exporter": "python",
      "pygments_lexer": "ipython3",
      "version": "3.9.12"
    },
    "colab": {
      "provenance": [],
      "include_colab_link": true
    }
  },
  "nbformat": 4,
  "nbformat_minor": 5
}